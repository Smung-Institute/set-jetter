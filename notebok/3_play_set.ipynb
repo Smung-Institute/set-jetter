{
 "cells": [
  {
   "cell_type": "markdown",
   "id": "e1ce33e0",
   "metadata": {},
   "source": [
    "Playing SET\n",
    "---\n",
    "\n",
    "Encode cards with 2 bits per feature."
   ]
  },
  {
   "cell_type": "code",
   "execution_count": 64,
   "id": "aaa3269c",
   "metadata": {},
   "outputs": [],
   "source": [
    "import pandas as pd\n",
    "import numpy as np\n",
    "\n",
    "\n",
    "import gym\n",
    "import tensorflow as tf\n",
    "from tensorflow import keras\n",
    "from tensorflow.keras import layers"
   ]
  },
  {
   "cell_type": "code",
   "execution_count": 16,
   "id": "cddba9e1",
   "metadata": {},
   "outputs": [
    {
     "data": {
      "text/plain": [
       "(81, 8)"
      ]
     },
     "execution_count": 16,
     "metadata": {},
     "output_type": "execute_result"
    }
   ],
   "source": [
    "#two bits are needed to store the three options\n",
    "columns = [\n",
    "    'number 1',\n",
    "    'number 2',\n",
    "    'color 1',\n",
    "    'color 2',\n",
    "    'symbol 1',\n",
    "    'symbol 2',\n",
    "    'texture 1',\n",
    "    'texture 2'\n",
    "]\n",
    "\n",
    "# a feature can be one of three \n",
    "feature_options = [\n",
    "    '10', #this\n",
    "    '01', #that\n",
    "    '00' #other\n",
    "]\n",
    "\n",
    "#make encoded card data\n",
    "cards_list = np.array([\n",
    "    [\n",
    "        [\n",
    "            [\n",
    "                [\n",
    "                    character\n",
    "                    for character in numberoption+coloroption+symboloption+textureoption\n",
    "                ]\n",
    "                for textureoption in feature_options\n",
    "            ]\n",
    "            for symboloption in feature_options\n",
    "        ]\n",
    "        for coloroption in feature_options\n",
    "    ]\n",
    "    for numberoption in feature_options\n",
    "])\n",
    "cards_list = cards_list.reshape(81,8)\n",
    "cards_list.shape"
   ]
  },
  {
   "cell_type": "code",
   "execution_count": 28,
   "id": "02c6518b",
   "metadata": {
    "scrolled": true
   },
   "outputs": [
    {
     "data": {
      "text/html": [
       "<div>\n",
       "<style scoped>\n",
       "    .dataframe tbody tr th:only-of-type {\n",
       "        vertical-align: middle;\n",
       "    }\n",
       "\n",
       "    .dataframe tbody tr th {\n",
       "        vertical-align: top;\n",
       "    }\n",
       "\n",
       "    .dataframe thead th {\n",
       "        text-align: right;\n",
       "    }\n",
       "</style>\n",
       "<table border=\"1\" class=\"dataframe\">\n",
       "  <thead>\n",
       "    <tr style=\"text-align: right;\">\n",
       "      <th></th>\n",
       "      <th>number 1</th>\n",
       "      <th>number 2</th>\n",
       "      <th>color 1</th>\n",
       "      <th>color 2</th>\n",
       "      <th>symbol 1</th>\n",
       "      <th>symbol 2</th>\n",
       "      <th>texture 1</th>\n",
       "      <th>texture 2</th>\n",
       "    </tr>\n",
       "    <tr>\n",
       "      <th>card index</th>\n",
       "      <th></th>\n",
       "      <th></th>\n",
       "      <th></th>\n",
       "      <th></th>\n",
       "      <th></th>\n",
       "      <th></th>\n",
       "      <th></th>\n",
       "      <th></th>\n",
       "    </tr>\n",
       "  </thead>\n",
       "  <tbody>\n",
       "    <tr>\n",
       "      <th>0</th>\n",
       "      <td>True</td>\n",
       "      <td>False</td>\n",
       "      <td>True</td>\n",
       "      <td>False</td>\n",
       "      <td>True</td>\n",
       "      <td>False</td>\n",
       "      <td>True</td>\n",
       "      <td>False</td>\n",
       "    </tr>\n",
       "    <tr>\n",
       "      <th>1</th>\n",
       "      <td>True</td>\n",
       "      <td>False</td>\n",
       "      <td>True</td>\n",
       "      <td>False</td>\n",
       "      <td>True</td>\n",
       "      <td>False</td>\n",
       "      <td>False</td>\n",
       "      <td>True</td>\n",
       "    </tr>\n",
       "    <tr>\n",
       "      <th>2</th>\n",
       "      <td>True</td>\n",
       "      <td>False</td>\n",
       "      <td>True</td>\n",
       "      <td>False</td>\n",
       "      <td>True</td>\n",
       "      <td>False</td>\n",
       "      <td>False</td>\n",
       "      <td>False</td>\n",
       "    </tr>\n",
       "    <tr>\n",
       "      <th>3</th>\n",
       "      <td>True</td>\n",
       "      <td>False</td>\n",
       "      <td>True</td>\n",
       "      <td>False</td>\n",
       "      <td>False</td>\n",
       "      <td>True</td>\n",
       "      <td>True</td>\n",
       "      <td>False</td>\n",
       "    </tr>\n",
       "    <tr>\n",
       "      <th>4</th>\n",
       "      <td>True</td>\n",
       "      <td>False</td>\n",
       "      <td>True</td>\n",
       "      <td>False</td>\n",
       "      <td>False</td>\n",
       "      <td>True</td>\n",
       "      <td>False</td>\n",
       "      <td>True</td>\n",
       "    </tr>\n",
       "  </tbody>\n",
       "</table>\n",
       "</div>"
      ],
      "text/plain": [
       "            number 1  number 2  color 1  color 2  symbol 1  symbol 2  \\\n",
       "card index                                                             \n",
       "0               True     False     True    False      True     False   \n",
       "1               True     False     True    False      True     False   \n",
       "2               True     False     True    False      True     False   \n",
       "3               True     False     True    False     False      True   \n",
       "4               True     False     True    False     False      True   \n",
       "\n",
       "            texture 1  texture 2  \n",
       "card index                        \n",
       "0                True      False  \n",
       "1               False       True  \n",
       "2               False      False  \n",
       "3                True      False  \n",
       "4               False       True  "
      ]
     },
     "execution_count": 28,
     "metadata": {},
     "output_type": "execute_result"
    }
   ],
   "source": [
    "#encode each card as a row in a dataframe with 1-bit columns\n",
    "bit_cards = pd.DataFrame(cards_list, columns = columns) .astype(int).astype(bool) #can't tell the difference between '1' and '0' until it's been turned to int\n",
    "bit_cards.index.name = 'card index'\n",
    "bit_cards.head()"
   ]
  },
  {
   "cell_type": "code",
   "execution_count": 35,
   "id": "35e6bd32",
   "metadata": {},
   "outputs": [],
   "source": [
    "#encode each card as a row in a dataframe with 2-bit columns\n",
    "columns = [\n",
    "    'number',\n",
    "    'color',\n",
    "    'symbol',\n",
    "    'texture'\n",
    "]\n",
    "\n",
    "feature_options = 'abc'\n",
    "\n",
    "cards_list = np.array([\n",
    "    [\n",
    "        [\n",
    "            [\n",
    "                [numberoption, coloroption, symboloption, textureoption]\n",
    "                for textureoption in feature_options\n",
    "            ]\n",
    "            for symboloption in feature_options\n",
    "        ]\n",
    "        for coloroption in feature_options\n",
    "    ]\n",
    "    for numberoption in feature_options\n",
    "]).reshape(81,4)\n",
    "\n",
    "cards = pd.DataFrame(cards_list, columns = columns)"
   ]
  },
  {
   "cell_type": "code",
   "execution_count": 38,
   "id": "e5b0007e",
   "metadata": {},
   "outputs": [
    {
     "data": {
      "text/plain": [
       "(  number color symbol texture\n",
       " 0      a     a      a       a\n",
       " 1      a     a      a       b\n",
       " 2      a     a      a       c\n",
       " 3      a     a      b       a\n",
       " 4      a     a      b       b,\n",
       "    number color symbol texture\n",
       " 76      c     c      b       b\n",
       " 77      c     c      b       c\n",
       " 78      c     c      c       a\n",
       " 79      c     c      c       b\n",
       " 80      c     c      c       c)"
      ]
     },
     "execution_count": 38,
     "metadata": {},
     "output_type": "execute_result"
    }
   ],
   "source": [
    "cards.head(), cards.tail()"
   ]
  },
  {
   "cell_type": "code",
   "execution_count": 39,
   "id": "494d8dc3",
   "metadata": {},
   "outputs": [],
   "source": [
    "# determine if three cards are a set\n",
    "\n",
    "\n",
    "#checks if the feature value for three series is all the same thing\n",
    "\n",
    "def all_same(series1, series2, series3, feature):\n",
    "    return series1[feature] == series2[feature] and series2[feature] == series3[feature]\n",
    "\n",
    "#checks if the feature values for three series are all unique\n",
    "\n",
    "def all_diffnt(series1, series2, series3, feature):\n",
    "    return series1[feature] != series2[feature] and series2[feature] != series3[feature] and series3[feature] != series1[feature]\n",
    "    \n",
    "    \n",
    "#gives True if the three cards are a set, False if not\n",
    "#feed this a pd.Series of the 4 features\n",
    "\n",
    "def setQ(card1, card2, card3):\n",
    "    #assumes the cards are a set at the outset. Will turn to False if it fails any of the tests.\n",
    "    setA = True\n",
    "    features = ['number','color','symbol','texture']\n",
    "    for feature in features:\n",
    "        feature_check = all_same(card1, card2, card3, feature) or all_diffnt(card1,card2,card3,feature)\n",
    "        setA = setA and feature_check\n",
    "    return setA\n",
    "            "
   ]
  },
  {
   "cell_type": "code",
   "execution_count": 47,
   "id": "8d956409",
   "metadata": {},
   "outputs": [
    {
     "data": {
      "text/plain": [
       "True"
      ]
     },
     "execution_count": 47,
     "metadata": {},
     "output_type": "execute_result"
    }
   ],
   "source": [
    "#are the first three cards a set?\n",
    "setQ(cards.loc[0],cards.loc[1],cards.loc[2])"
   ]
  },
  {
   "cell_type": "code",
   "execution_count": 48,
   "id": "e13577c7",
   "metadata": {},
   "outputs": [
    {
     "data": {
      "text/plain": [
       "False"
      ]
     },
     "execution_count": 48,
     "metadata": {},
     "output_type": "execute_result"
    }
   ],
   "source": [
    "#are the first two and the fourth a set?\n",
    "setQ(cards.loc[0],cards.loc[1],cards.loc[3])"
   ]
  },
  {
   "cell_type": "code",
   "execution_count": 58,
   "id": "ef42be5a",
   "metadata": {},
   "outputs": [],
   "source": [
    "#convert a 2-bit encoded card into a 3-bit card.\n",
    "\n",
    "def two_to_three_bits(two_bit_series):\n",
    "    two_bit_columns = [\n",
    "    'number 1',\n",
    "    'number 2',\n",
    "    'color 1',\n",
    "    'color 2',\n",
    "    'symbol 1',\n",
    "    'symbol 2',\n",
    "    'texture 1',\n",
    "    'texture 2'\n",
    "    ]\n",
    "    three_bit_columns = [\n",
    "    'number',\n",
    "    'color',\n",
    "    'symbol',\n",
    "    'texture'\n",
    "    ]\n",
    "    three_bit_series = pd.Series(dtype='object', index = three_bit_columns)\n",
    "    for column in three_bit_columns:\n",
    "        if two_bit_series[column + ' 1']:\n",
    "            this_value = 'a'\n",
    "        elif two_bit_series[column + ' 2']:\n",
    "            this_value = 'b'\n",
    "        else:\n",
    "            this_value = 'c'\n",
    "        three_bit_series[column] = this_value\n",
    "    return three_bit_series"
   ]
  },
  {
   "cell_type": "code",
   "execution_count": 62,
   "id": "07046eb1",
   "metadata": {},
   "outputs": [
    {
     "data": {
      "text/plain": [
       "number     a\n",
       "color      a\n",
       "symbol     a\n",
       "texture    a\n",
       "dtype: object"
      ]
     },
     "execution_count": 62,
     "metadata": {},
     "output_type": "execute_result"
    }
   ],
   "source": [
    "#encode the first two-bit card as a three-bit\n",
    "two_to_three_bits(bit_cards.loc[0])"
   ]
  },
  {
   "cell_type": "code",
   "execution_count": 63,
   "id": "754e155f",
   "metadata": {},
   "outputs": [],
   "source": [
    "#two-bit cards are easier to feed to a model."
   ]
  },
  {
   "cell_type": "markdown",
   "id": "463b2a96",
   "metadata": {},
   "source": [
    "actor-critic model\n",
    "---\n",
    "\n",
    "the model will be fed `8*12 == 96` bits corresponding to twelve cards data. It then will give a set of cards to take as well as a prediction of whether it"
   ]
  },
  {
   "cell_type": "code",
   "execution_count": 105,
   "id": "f6284f19",
   "metadata": {},
   "outputs": [],
   "source": [
    "rng_seed = 2022\n",
    "rng = np.random.default_rng(rng_seed)"
   ]
  },
  {
   "cell_type": "code",
   "execution_count": 115,
   "id": "61c3a2c6",
   "metadata": {},
   "outputs": [
    {
     "data": {
      "text/plain": [
       "array([57, 53, 17])"
      ]
     },
     "execution_count": 115,
     "metadata": {},
     "output_type": "execute_result"
    }
   ],
   "source": [
    "rng.choice(range(81), 3, replace = False)"
   ]
  },
  {
   "cell_type": "code",
   "execution_count": 171,
   "id": "42191387",
   "metadata": {},
   "outputs": [],
   "source": [
    "#splits a deck into cards on the board and cards left in the deck.\n",
    "def initialize_board(num_cards, board_size, rng):\n",
    "    card_list = list(range(num_cards))\n",
    "    board = rng.choice(card_list, board_size, replace = False)\n",
    "    card_list = np.array([\n",
    "        card\n",
    "        for card in card_list\n",
    "        if card not in board\n",
    "    ])\n",
    "    return board, card_list\n",
    "\n",
    "#takes a board, a deck, and draws up to the board size.\n",
    "# returns a new board with added cards and the deck with those\n",
    "#cards removed.\n",
    "def draw_cards(board, deck, rng, board_size = 12):\n",
    "    num_cards_to_draw = board_size - len(board)\n",
    "    if len(board) + len(deck) < board_size:\n",
    "        print(f'{num_cards_to_draw} cards are needed to complete the board, but only {len(card_list)} remain in the deck.' )\n",
    "        return None\n",
    "    else:\n",
    "        drawn_cards = rng.choice(deck, num_cards_to_draw, replace = False)\n",
    "        new_deck = list(deck)\n",
    "        for card in drawn_cards:\n",
    "            new_deck.remove(card)\n",
    "        new_deck = np.array(new_deck)\n",
    "        new_board = np.concatenate([board, drawn_cards])\n",
    "        return new_board, new_deck"
   ]
  },
  {
   "cell_type": "code",
   "execution_count": 172,
   "id": "c1651cf0",
   "metadata": {},
   "outputs": [
    {
     "data": {
      "text/plain": [
       "array([ 6,  4, 71, 69, 13, 61, 53,  5, 49, 45, 17, 52])"
      ]
     },
     "execution_count": 172,
     "metadata": {},
     "output_type": "execute_result"
    }
   ],
   "source": [
    "board"
   ]
  },
  {
   "cell_type": "code",
   "execution_count": 173,
   "id": "2007af1c",
   "metadata": {
    "scrolled": true
   },
   "outputs": [
    {
     "data": {
      "text/plain": [
       "(array([ 6,  4, 71, 69, 13, 61, 34, 23, 12, 31, 77, 50]),\n",
       " array([ 0,  1,  2,  3,  7,  8,  9, 10, 11, 14, 15, 16, 18, 19, 20, 21, 22,\n",
       "        24, 25, 26, 27, 28, 29, 30, 32, 33, 35, 36, 37, 38, 39, 40, 41, 42,\n",
       "        43, 44, 46, 47, 48, 51, 54, 55, 56, 57, 58, 59, 60, 62, 63, 64, 65,\n",
       "        66, 67, 68, 70, 72, 73, 74, 75, 76, 78, 79, 80]))"
      ]
     },
     "execution_count": 173,
     "metadata": {},
     "output_type": "execute_result"
    }
   ],
   "source": [
    "draw_cards(board[:6],deck,rng)"
   ]
  },
  {
   "cell_type": "code",
   "execution_count": 137,
   "id": "c415ae56",
   "metadata": {
    "scrolled": true
   },
   "outputs": [
    {
     "data": {
      "text/plain": [
       "(array([ 6,  4, 71, 69, 13, 61, 53,  5, 49, 45, 17, 52]),\n",
       " array([ 0,  1,  2,  3,  7,  8,  9, 10, 11, 12, 14, 15, 16, 18, 19, 20, 21,\n",
       "        22, 23, 24, 25, 26, 27, 28, 29, 30, 31, 32, 33, 34, 35, 36, 37, 38,\n",
       "        39, 40, 41, 42, 43, 44, 46, 47, 48, 50, 51, 54, 55, 56, 57, 58, 59,\n",
       "        60, 62, 63, 64, 65, 66, 67, 68, 70, 72, 73, 74, 75, 76, 77, 78, 79,\n",
       "        80]))"
      ]
     },
     "execution_count": 137,
     "metadata": {},
     "output_type": "execute_result"
    }
   ],
   "source": [
    "board, deck = initialize_board(81,12,np.random.default_rng(2022))\n",
    "board, deck"
   ]
  },
  {
   "cell_type": "code",
   "execution_count": 174,
   "id": "3f805720",
   "metadata": {},
   "outputs": [],
   "source": [
    "#takes an iterable of cards by index and returns a flat array of the card bits\n",
    "def board_to_input(card_indices):\n",
    "    model_input = bit_cards.loc[card_indices].astype(int).values.flatten()\n",
    "    return model_input"
   ]
  },
  {
   "cell_type": "code",
   "execution_count": 176,
   "id": "c9335d5e",
   "metadata": {},
   "outputs": [
    {
     "data": {
      "text/plain": [
       "array([ 6,  4, 71, 69, 13, 61, 53,  5, 49, 45, 17, 52])"
      ]
     },
     "execution_count": 176,
     "metadata": {},
     "output_type": "execute_result"
    }
   ],
   "source": [
    "board"
   ]
  },
  {
   "cell_type": "code",
   "execution_count": 175,
   "id": "29fd9d48",
   "metadata": {},
   "outputs": [
    {
     "data": {
      "text/plain": [
       "array([1, 0, 1, 0, 0, 0, 1, 0, 1, 0, 1, 0, 0, 1, 0, 1, 0, 0, 0, 1, 0, 0,\n",
       "       0, 0, 0, 0, 0, 1, 0, 0, 1, 0, 1, 0, 0, 1, 0, 1, 0, 1, 0, 0, 1, 0,\n",
       "       0, 0, 0, 1, 0, 1, 0, 0, 0, 0, 0, 0, 1, 0, 1, 0, 0, 1, 0, 0, 0, 1,\n",
       "       0, 0, 0, 1, 0, 1, 0, 1, 0, 0, 1, 0, 1, 0, 1, 0, 0, 1, 0, 0, 0, 0,\n",
       "       0, 1, 0, 0, 0, 0, 0, 1])"
      ]
     },
     "execution_count": 175,
     "metadata": {},
     "output_type": "execute_result"
    }
   ],
   "source": [
    "sample_input = board_to_input(board)\n",
    "sample_input"
   ]
  },
  {
   "cell_type": "code",
   "execution_count": 143,
   "id": "758cd0ee",
   "metadata": {},
   "outputs": [
    {
     "data": {
      "text/plain": [
       "96"
      ]
     },
     "execution_count": 143,
     "metadata": {},
     "output_type": "execute_result"
    }
   ],
   "source": [
    "len(sample_input)"
   ]
  },
  {
   "cell_type": "code",
   "execution_count": 146,
   "id": "6067d0f1",
   "metadata": {},
   "outputs": [
    {
     "data": {
      "text/plain": [
       "<tf.Tensor: shape=(96,), dtype=int32, numpy=\n",
       "array([1, 0, 1, 0, 0, 0, 1, 0, 1, 0, 1, 0, 0, 1, 0, 1, 0, 0, 0, 1, 0, 0,\n",
       "       0, 0, 0, 0, 0, 1, 0, 0, 1, 0, 1, 0, 0, 1, 0, 1, 0, 1, 0, 0, 1, 0,\n",
       "       0, 0, 0, 1, 0, 1, 0, 0, 0, 0, 0, 0, 1, 0, 1, 0, 0, 1, 0, 0, 0, 1,\n",
       "       0, 0, 0, 1, 0, 1, 0, 1, 0, 0, 1, 0, 1, 0, 1, 0, 0, 1, 0, 0, 0, 0,\n",
       "       0, 1, 0, 0, 0, 0, 0, 1])>"
      ]
     },
     "execution_count": 146,
     "metadata": {},
     "output_type": "execute_result"
    }
   ],
   "source": [
    "tf.convert_to_tensor(board_to_input(board))"
   ]
  },
  {
   "cell_type": "code",
   "execution_count": 69,
   "id": "1b160861",
   "metadata": {},
   "outputs": [],
   "source": [
    "rng_seed = 2022\n",
    "rng = np.random.default_rng(rng_seed)\n",
    "\n",
    "\n",
    "gamma = 0.995 #discount factor for previous rewards\n",
    "rounds_per_game = 20\n",
    "\n",
    "num_inputs = 8*12 #12 cards at a time, 8 bits per card\n",
    "num_hidden = 256\n",
    "num_picks = 12 #cards per round\n",
    "\n",
    "inputs = layers.Input(shape = (num_inputs,))\n",
    "common = layers.Dense(num_hidden, activation = 'relu')(inputs)\n",
    "picks = layers.Dense(num_picks, activation = 'relu')(common)\n",
    "critic = layers.Dense(1)(common)\n",
    "\n",
    "model = keras.Model(inputs = inputs, outputs = [picks, critic])\n",
    "\n",
    "#make optimizer\n",
    "optimizer = keras.optimizers.Adam(learning_rate = 0.01)\n",
    "#loss function\n",
    "loss = sum\n",
    "\n",
    "action_probs_history = []\n",
    "critic_value_history = []\n",
    "rewards_history = []\n",
    "running_reward = 0\n",
    "round_count = 0\n",
    "\n",
    "#get 0 and 1 values for the entire deck\n",
    "card_values = bit_cards.astype(int).values\n",
    "\n",
    "#play a game\n",
    "#create a list of unused cards\n",
    "board, deck = initialize_board(81, 12)\n",
    "this_round = 0\n",
    "for this_round in range(rounds_per_game):\n",
    "        board"
   ]
  }
 ],
 "metadata": {
  "kernelspec": {
   "display_name": "Python 3 (ipykernel)",
   "language": "python",
   "name": "python3"
  },
  "language_info": {
   "codemirror_mode": {
    "name": "ipython",
    "version": 3
   },
   "file_extension": ".py",
   "mimetype": "text/x-python",
   "name": "python",
   "nbconvert_exporter": "python",
   "pygments_lexer": "ipython3",
   "version": "3.9.7"
  }
 },
 "nbformat": 4,
 "nbformat_minor": 5
}
