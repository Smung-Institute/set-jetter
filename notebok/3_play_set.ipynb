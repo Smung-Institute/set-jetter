{
 "cells": [
  {
   "cell_type": "markdown",
   "id": "e1ce33e0",
   "metadata": {},
   "source": [
    "Playing SET\n",
    "---\n",
    "[keras on actor-critic](https://keras.io/examples/rl/actor_critic_cartpole/)\n",
    "\n",
    "[tensorflow docs on actor-critic](https://www.tensorflow.org/tutorials/reinforcement_learning/actor_critic)\n",
    "\n",
    "Encode cards with 2 bits per feature."
   ]
  },
  {
   "cell_type": "code",
   "execution_count": 1,
   "id": "aaa3269c",
   "metadata": {},
   "outputs": [
    {
     "name": "stderr",
     "output_type": "stream",
     "text": [
      "C:\\ProgramData\\Anaconda3\\lib\\site-packages\\tensorflow\\core\\framework\\tensor_shape_pb2.py:18: DeprecationWarning: Call to deprecated create function FileDescriptor(). Note: Create unlinked descriptors is going to go away. Please use get/find descriptors from generated code or query the descriptor_pool.\n",
      "  DESCRIPTOR = _descriptor.FileDescriptor(\n",
      "C:\\ProgramData\\Anaconda3\\lib\\site-packages\\tensorflow\\core\\framework\\tensor_shape_pb2.py:36: DeprecationWarning: Call to deprecated create function FieldDescriptor(). Note: Create unlinked descriptors is going to go away. Please use get/find descriptors from generated code or query the descriptor_pool.\n",
      "  _descriptor.FieldDescriptor(\n",
      "C:\\ProgramData\\Anaconda3\\lib\\site-packages\\tensorflow\\core\\framework\\tensor_shape_pb2.py:29: DeprecationWarning: Call to deprecated create function Descriptor(). Note: Create unlinked descriptors is going to go away. Please use get/find descriptors from generated code or query the descriptor_pool.\n",
      "  _TENSORSHAPEPROTO_DIM = _descriptor.Descriptor(\n",
      "C:\\ProgramData\\Anaconda3\\lib\\site-packages\\tensorflow\\core\\framework\\types_pb2.py:19: DeprecationWarning: Call to deprecated create function FileDescriptor(). Note: Create unlinked descriptors is going to go away. Please use get/find descriptors from generated code or query the descriptor_pool.\n",
      "  DESCRIPTOR = _descriptor.FileDescriptor(\n",
      "C:\\ProgramData\\Anaconda3\\lib\\site-packages\\tensorflow\\core\\framework\\types_pb2.py:33: DeprecationWarning: Call to deprecated create function EnumValueDescriptor(). Note: Create unlinked descriptors is going to go away. Please use get/find descriptors from generated code or query the descriptor_pool.\n",
      "  _descriptor.EnumValueDescriptor(\n",
      "C:\\ProgramData\\Anaconda3\\lib\\site-packages\\tensorflow\\core\\framework\\types_pb2.py:27: DeprecationWarning: Call to deprecated create function EnumDescriptor(). Note: Create unlinked descriptors is going to go away. Please use get/find descriptors from generated code or query the descriptor_pool.\n",
      "  _DATATYPE = _descriptor.EnumDescriptor(\n",
      "C:\\ProgramData\\Anaconda3\\lib\\site-packages\\tensorflow\\core\\framework\\resource_handle_pb2.py:20: DeprecationWarning: Call to deprecated create function FileDescriptor(). Note: Create unlinked descriptors is going to go away. Please use get/find descriptors from generated code or query the descriptor_pool.\n",
      "  DESCRIPTOR = _descriptor.FileDescriptor(\n",
      "C:\\ProgramData\\Anaconda3\\lib\\site-packages\\tensorflow\\core\\framework\\resource_handle_pb2.py:39: DeprecationWarning: Call to deprecated create function FieldDescriptor(). Note: Create unlinked descriptors is going to go away. Please use get/find descriptors from generated code or query the descriptor_pool.\n",
      "  _descriptor.FieldDescriptor(\n",
      "C:\\ProgramData\\Anaconda3\\lib\\site-packages\\tensorflow\\core\\framework\\resource_handle_pb2.py:32: DeprecationWarning: Call to deprecated create function Descriptor(). Note: Create unlinked descriptors is going to go away. Please use get/find descriptors from generated code or query the descriptor_pool.\n",
      "  _RESOURCEHANDLEPROTO_DTYPEANDSHAPE = _descriptor.Descriptor(\n",
      "C:\\ProgramData\\Anaconda3\\lib\\site-packages\\tensorflow\\core\\framework\\tensor_pb2.py:21: DeprecationWarning: Call to deprecated create function FileDescriptor(). Note: Create unlinked descriptors is going to go away. Please use get/find descriptors from generated code or query the descriptor_pool.\n",
      "  DESCRIPTOR = _descriptor.FileDescriptor(\n",
      "C:\\ProgramData\\Anaconda3\\lib\\site-packages\\tensorflow\\core\\framework\\tensor_pb2.py:40: DeprecationWarning: Call to deprecated create function FieldDescriptor(). Note: Create unlinked descriptors is going to go away. Please use get/find descriptors from generated code or query the descriptor_pool.\n",
      "  _descriptor.FieldDescriptor(\n",
      "C:\\ProgramData\\Anaconda3\\lib\\site-packages\\tensorflow\\core\\framework\\tensor_pb2.py:33: DeprecationWarning: Call to deprecated create function Descriptor(). Note: Create unlinked descriptors is going to go away. Please use get/find descriptors from generated code or query the descriptor_pool.\n",
      "  _TENSORPROTO = _descriptor.Descriptor(\n",
      "C:\\ProgramData\\Anaconda3\\lib\\site-packages\\tensorflow\\core\\framework\\attr_value_pb2.py:21: DeprecationWarning: Call to deprecated create function FileDescriptor(). Note: Create unlinked descriptors is going to go away. Please use get/find descriptors from generated code or query the descriptor_pool.\n",
      "  DESCRIPTOR = _descriptor.FileDescriptor(\n",
      "C:\\ProgramData\\Anaconda3\\lib\\site-packages\\tensorflow\\core\\framework\\attr_value_pb2.py:40: DeprecationWarning: Call to deprecated create function FieldDescriptor(). Note: Create unlinked descriptors is going to go away. Please use get/find descriptors from generated code or query the descriptor_pool.\n",
      "  _descriptor.FieldDescriptor(\n",
      "C:\\ProgramData\\Anaconda3\\lib\\site-packages\\tensorflow\\core\\framework\\attr_value_pb2.py:33: DeprecationWarning: Call to deprecated create function Descriptor(). Note: Create unlinked descriptors is going to go away. Please use get/find descriptors from generated code or query the descriptor_pool.\n",
      "  _ATTRVALUE_LISTVALUE = _descriptor.Descriptor(\n"
     ]
    }
   ],
   "source": [
    "import pandas as pd\n",
    "import numpy as np\n",
    "\n",
    "import matplotlib.pyplot as plt\n",
    "\n",
    "\n",
    "import gym\n",
    "import tensorflow as tf\n",
    "from tensorflow import keras\n",
    "from tensorflow.keras import layers"
   ]
  },
  {
   "cell_type": "code",
   "execution_count": 2,
   "id": "3a5e97a1",
   "metadata": {
    "scrolled": true
   },
   "outputs": [
    {
     "data": {
      "text/plain": [
       "<module 'tensorflow._api.v2.version' from 'C:\\\\ProgramData\\\\Anaconda3\\\\lib\\\\site-packages\\\\tensorflow\\\\_api\\\\v2\\\\version\\\\__init__.py'>"
      ]
     },
     "execution_count": 2,
     "metadata": {},
     "output_type": "execute_result"
    }
   ],
   "source": [
    "tf.version"
   ]
  },
  {
   "cell_type": "code",
   "execution_count": 3,
   "id": "cddba9e1",
   "metadata": {},
   "outputs": [
    {
     "data": {
      "text/plain": [
       "(81, 8)"
      ]
     },
     "execution_count": 3,
     "metadata": {},
     "output_type": "execute_result"
    }
   ],
   "source": [
    "#two bits are needed to store the three options\n",
    "columns = [\n",
    "    'number 1',\n",
    "    'number 2',\n",
    "    'color 1',\n",
    "    'color 2',\n",
    "    'symbol 1',\n",
    "    'symbol 2',\n",
    "    'texture 1',\n",
    "    'texture 2'\n",
    "]\n",
    "\n",
    "# a feature can be one of three \n",
    "feature_options = [\n",
    "    '10', #this\n",
    "    '01', #that\n",
    "    '00' #other\n",
    "]\n",
    "\n",
    "#make encoded card data\n",
    "cards_list = np.array([\n",
    "    [\n",
    "        [\n",
    "            [\n",
    "                [\n",
    "                    character\n",
    "                    for character in numberoption+coloroption+symboloption+textureoption\n",
    "                ]\n",
    "                for textureoption in feature_options\n",
    "            ]\n",
    "            for symboloption in feature_options\n",
    "        ]\n",
    "        for coloroption in feature_options\n",
    "    ]\n",
    "    for numberoption in feature_options\n",
    "])\n",
    "cards_list = cards_list.reshape(81,8)\n",
    "cards_list.shape"
   ]
  },
  {
   "cell_type": "code",
   "execution_count": 4,
   "id": "02c6518b",
   "metadata": {
    "scrolled": true
   },
   "outputs": [
    {
     "data": {
      "text/html": [
       "<div>\n",
       "<style scoped>\n",
       "    .dataframe tbody tr th:only-of-type {\n",
       "        vertical-align: middle;\n",
       "    }\n",
       "\n",
       "    .dataframe tbody tr th {\n",
       "        vertical-align: top;\n",
       "    }\n",
       "\n",
       "    .dataframe thead th {\n",
       "        text-align: right;\n",
       "    }\n",
       "</style>\n",
       "<table border=\"1\" class=\"dataframe\">\n",
       "  <thead>\n",
       "    <tr style=\"text-align: right;\">\n",
       "      <th></th>\n",
       "      <th>number 1</th>\n",
       "      <th>number 2</th>\n",
       "      <th>color 1</th>\n",
       "      <th>color 2</th>\n",
       "      <th>symbol 1</th>\n",
       "      <th>symbol 2</th>\n",
       "      <th>texture 1</th>\n",
       "      <th>texture 2</th>\n",
       "    </tr>\n",
       "    <tr>\n",
       "      <th>card index</th>\n",
       "      <th></th>\n",
       "      <th></th>\n",
       "      <th></th>\n",
       "      <th></th>\n",
       "      <th></th>\n",
       "      <th></th>\n",
       "      <th></th>\n",
       "      <th></th>\n",
       "    </tr>\n",
       "  </thead>\n",
       "  <tbody>\n",
       "    <tr>\n",
       "      <th>0</th>\n",
       "      <td>True</td>\n",
       "      <td>False</td>\n",
       "      <td>True</td>\n",
       "      <td>False</td>\n",
       "      <td>True</td>\n",
       "      <td>False</td>\n",
       "      <td>True</td>\n",
       "      <td>False</td>\n",
       "    </tr>\n",
       "    <tr>\n",
       "      <th>1</th>\n",
       "      <td>True</td>\n",
       "      <td>False</td>\n",
       "      <td>True</td>\n",
       "      <td>False</td>\n",
       "      <td>True</td>\n",
       "      <td>False</td>\n",
       "      <td>False</td>\n",
       "      <td>True</td>\n",
       "    </tr>\n",
       "    <tr>\n",
       "      <th>2</th>\n",
       "      <td>True</td>\n",
       "      <td>False</td>\n",
       "      <td>True</td>\n",
       "      <td>False</td>\n",
       "      <td>True</td>\n",
       "      <td>False</td>\n",
       "      <td>False</td>\n",
       "      <td>False</td>\n",
       "    </tr>\n",
       "    <tr>\n",
       "      <th>3</th>\n",
       "      <td>True</td>\n",
       "      <td>False</td>\n",
       "      <td>True</td>\n",
       "      <td>False</td>\n",
       "      <td>False</td>\n",
       "      <td>True</td>\n",
       "      <td>True</td>\n",
       "      <td>False</td>\n",
       "    </tr>\n",
       "    <tr>\n",
       "      <th>4</th>\n",
       "      <td>True</td>\n",
       "      <td>False</td>\n",
       "      <td>True</td>\n",
       "      <td>False</td>\n",
       "      <td>False</td>\n",
       "      <td>True</td>\n",
       "      <td>False</td>\n",
       "      <td>True</td>\n",
       "    </tr>\n",
       "  </tbody>\n",
       "</table>\n",
       "</div>"
      ],
      "text/plain": [
       "            number 1  number 2  color 1  color 2  symbol 1  symbol 2  \\\n",
       "card index                                                             \n",
       "0               True     False     True    False      True     False   \n",
       "1               True     False     True    False      True     False   \n",
       "2               True     False     True    False      True     False   \n",
       "3               True     False     True    False     False      True   \n",
       "4               True     False     True    False     False      True   \n",
       "\n",
       "            texture 1  texture 2  \n",
       "card index                        \n",
       "0                True      False  \n",
       "1               False       True  \n",
       "2               False      False  \n",
       "3                True      False  \n",
       "4               False       True  "
      ]
     },
     "execution_count": 4,
     "metadata": {},
     "output_type": "execute_result"
    }
   ],
   "source": [
    "#encode each card as a row in a dataframe with 1-bit columns\n",
    "bit_cards = pd.DataFrame(cards_list, columns = columns).astype(int).astype(bool) #can't tell the difference between '1' and '0' until it's been turned to int\n",
    "bit_cards.index.name = 'card index'\n",
    "bit_cards.head()"
   ]
  },
  {
   "cell_type": "code",
   "execution_count": 5,
   "id": "35e6bd32",
   "metadata": {},
   "outputs": [],
   "source": [
    "#encode each card as a row in a dataframe with 2-bit columns\n",
    "columns = [\n",
    "    'number',\n",
    "    'color',\n",
    "    'symbol',\n",
    "    'texture'\n",
    "]\n",
    "\n",
    "feature_options = 'abc'\n",
    "\n",
    "cards_list = np.array([\n",
    "    [\n",
    "        [\n",
    "            [\n",
    "                [numberoption, coloroption, symboloption, textureoption]\n",
    "                for textureoption in feature_options\n",
    "            ]\n",
    "            for symboloption in feature_options\n",
    "        ]\n",
    "        for coloroption in feature_options\n",
    "    ]\n",
    "    for numberoption in feature_options\n",
    "]).reshape(81,4)\n",
    "\n",
    "cards = pd.DataFrame(cards_list, columns = columns)"
   ]
  },
  {
   "cell_type": "code",
   "execution_count": 6,
   "id": "e5b0007e",
   "metadata": {},
   "outputs": [
    {
     "data": {
      "text/plain": [
       "(  number color symbol texture\n",
       " 0      a     a      a       a\n",
       " 1      a     a      a       b\n",
       " 2      a     a      a       c\n",
       " 3      a     a      b       a\n",
       " 4      a     a      b       b,\n",
       "    number color symbol texture\n",
       " 76      c     c      b       b\n",
       " 77      c     c      b       c\n",
       " 78      c     c      c       a\n",
       " 79      c     c      c       b\n",
       " 80      c     c      c       c)"
      ]
     },
     "execution_count": 6,
     "metadata": {},
     "output_type": "execute_result"
    }
   ],
   "source": [
    "cards.head(), cards.tail()"
   ]
  },
  {
   "cell_type": "code",
   "execution_count": 7,
   "id": "494d8dc3",
   "metadata": {},
   "outputs": [],
   "source": [
    "# determine if three cards are a set\n",
    "\n",
    "\n",
    "#checks if the feature value for three series is all the same thing\n",
    "\n",
    "def all_same(series1, series2, series3, feature):\n",
    "    return series1[feature] == series2[feature] and series2[feature] == series3[feature]\n",
    "\n",
    "#checks if the feature values for three series are all unique\n",
    "\n",
    "def all_diffnt(series1, series2, series3, feature):\n",
    "    return series1[feature] != series2[feature] and series2[feature] != series3[feature] and series3[feature] != series1[feature]\n",
    "    \n",
    "    \n",
    "#gives True if the three cards are a set, False if not\n",
    "#feed this a pd.Series of the 4 features\n",
    "\n",
    "def setQ(card_list):\n",
    "    card1, card2, card3 = card_list\n",
    "    #assumes the cards are a set at the outset. Will turn to False if it fails any of the tests.\n",
    "    setA = True\n",
    "    features = ['number','color','symbol','texture']\n",
    "    for feature in features:\n",
    "        feature_check = all_same(card1, card2, card3, feature) or all_diffnt(card1,card2,card3,feature)\n",
    "        setA = setA and feature_check\n",
    "    return setA\n",
    "            "
   ]
  },
  {
   "cell_type": "code",
   "execution_count": 8,
   "id": "8d956409",
   "metadata": {},
   "outputs": [
    {
     "data": {
      "text/plain": [
       "True"
      ]
     },
     "execution_count": 8,
     "metadata": {},
     "output_type": "execute_result"
    }
   ],
   "source": [
    "#are the first three cards a set?\n",
    "setQ([cards.loc[0],cards.loc[1],cards.loc[2]])"
   ]
  },
  {
   "cell_type": "code",
   "execution_count": 9,
   "id": "e13577c7",
   "metadata": {},
   "outputs": [
    {
     "data": {
      "text/plain": [
       "False"
      ]
     },
     "execution_count": 9,
     "metadata": {},
     "output_type": "execute_result"
    }
   ],
   "source": [
    "#are the first two and the fourth a set?\n",
    "setQ([cards.loc[0],cards.loc[1],cards.loc[3]])"
   ]
  },
  {
   "cell_type": "code",
   "execution_count": 10,
   "id": "ef42be5a",
   "metadata": {},
   "outputs": [],
   "source": [
    "#convert a 2-bit encoded card into a 3-bit card.\n",
    "\n",
    "def two_to_three_bits(two_bit_series):\n",
    "    two_bit_columns = [\n",
    "    'number 1',\n",
    "    'number 2',\n",
    "    'color 1',\n",
    "    'color 2',\n",
    "    'symbol 1',\n",
    "    'symbol 2',\n",
    "    'texture 1',\n",
    "    'texture 2'\n",
    "    ]\n",
    "    three_bit_columns = [\n",
    "    'number',\n",
    "    'color',\n",
    "    'symbol',\n",
    "    'texture'\n",
    "    ]\n",
    "    three_bit_series = pd.Series(dtype='object', index = three_bit_columns)\n",
    "    for column in three_bit_columns:\n",
    "        if two_bit_series[column + ' 1']:\n",
    "            this_value = 'a'\n",
    "        elif two_bit_series[column + ' 2']:\n",
    "            this_value = 'b'\n",
    "        else:\n",
    "            this_value = 'c'\n",
    "        three_bit_series[column] = this_value\n",
    "    return three_bit_series\n",
    "\n",
    "def index_to_series_list(index_list):\n",
    "    return [\n",
    "        cards.loc[index]\n",
    "        for index in index_list\n",
    "    ]"
   ]
  },
  {
   "cell_type": "code",
   "execution_count": 11,
   "id": "07046eb1",
   "metadata": {},
   "outputs": [
    {
     "data": {
      "text/plain": [
       "number     a\n",
       "color      a\n",
       "symbol     a\n",
       "texture    a\n",
       "dtype: object"
      ]
     },
     "execution_count": 11,
     "metadata": {},
     "output_type": "execute_result"
    }
   ],
   "source": [
    "#encode the first two-bit card as a three-bit\n",
    "two_to_three_bits(bit_cards.loc[0])"
   ]
  },
  {
   "cell_type": "code",
   "execution_count": 12,
   "id": "754e155f",
   "metadata": {},
   "outputs": [],
   "source": [
    "#two-bit cards are easier to feed to a model."
   ]
  },
  {
   "cell_type": "markdown",
   "id": "463b2a96",
   "metadata": {},
   "source": [
    "actor-critic model\n",
    "---\n",
    "\n",
    "the model will be fed `8*12 == 96` bits corresponding to twelve cards data. It then will give a set of cards to take as well as a prediction of whether it"
   ]
  },
  {
   "cell_type": "code",
   "execution_count": 13,
   "id": "f6284f19",
   "metadata": {},
   "outputs": [],
   "source": [
    "rng_seed = 2022\n",
    "rng = np.random.default_rng(rng_seed)"
   ]
  },
  {
   "cell_type": "code",
   "execution_count": 14,
   "id": "61c3a2c6",
   "metadata": {},
   "outputs": [
    {
     "data": {
      "text/plain": [
       "array([19, 60, 55])"
      ]
     },
     "execution_count": 14,
     "metadata": {},
     "output_type": "execute_result"
    }
   ],
   "source": [
    "rng.choice(range(81), 3, replace = False)"
   ]
  },
  {
   "cell_type": "code",
   "execution_count": 15,
   "id": "42191387",
   "metadata": {},
   "outputs": [],
   "source": [
    "#splits a deck into cards on the board and cards left in the deck.\n",
    "def initialize_board(num_cards, board_size, rng):\n",
    "    card_list = list(range(num_cards))\n",
    "    board = rng.choice(card_list, board_size, replace = False)\n",
    "    card_list = np.array([\n",
    "        card\n",
    "        for card in card_list\n",
    "        if card not in board\n",
    "    ])\n",
    "    return board, card_list\n",
    "\n",
    "#takes a board, a deck, and draws up to the board size.\n",
    "# returns a new board with added cards and the deck with those\n",
    "#cards removed.\n",
    "def draw_cards(board, deck, rng, board_size = 12, p = None):\n",
    "    num_cards_to_draw = board_size - len(board)\n",
    "    if len(board) + len(deck) < board_size:\n",
    "        print(f'{num_cards_to_draw} cards are needed to complete the board, but only {len(card_list)} remain in the deck.' )\n",
    "        return None\n",
    "    else:\n",
    "        drawn_cards = rng.choice(deck, num_cards_to_draw, replace = False, p = p)\n",
    "        new_deck = list(deck)\n",
    "        for card in drawn_cards:\n",
    "            new_deck.remove(card)\n",
    "        new_deck = np.array(new_deck)\n",
    "        new_board = np.concatenate([board, drawn_cards])\n",
    "        return new_board, new_deck"
   ]
  },
  {
   "cell_type": "code",
   "execution_count": 16,
   "id": "c415ae56",
   "metadata": {
    "scrolled": false
   },
   "outputs": [
    {
     "data": {
      "text/plain": [
       "(array([ 6,  4, 71, 69, 13, 61, 53,  5, 49, 45, 17, 52]),\n",
       " array([ 0,  1,  2,  3,  7,  8,  9, 10, 11, 12, 14, 15, 16, 18, 19, 20, 21,\n",
       "        22, 23, 24, 25, 26, 27, 28, 29, 30, 31, 32, 33, 34, 35, 36, 37, 38,\n",
       "        39, 40, 41, 42, 43, 44, 46, 47, 48, 50, 51, 54, 55, 56, 57, 58, 59,\n",
       "        60, 62, 63, 64, 65, 66, 67, 68, 70, 72, 73, 74, 75, 76, 77, 78, 79,\n",
       "        80]))"
      ]
     },
     "execution_count": 16,
     "metadata": {},
     "output_type": "execute_result"
    }
   ],
   "source": [
    "#initialize a game\n",
    "board, deck = initialize_board(81,12,np.random.default_rng(2022))\n",
    "board, deck"
   ]
  },
  {
   "cell_type": "code",
   "execution_count": 17,
   "id": "d5277d15",
   "metadata": {
    "scrolled": true
   },
   "outputs": [
    {
     "data": {
      "text/plain": [
       "(array([ 6,  4, 71, 69, 13, 61,  7, 78, 72, 44, 70, 51]),\n",
       " array([ 0,  1,  2,  3,  8,  9, 10, 11, 12, 14, 15, 16, 18, 19, 20, 21, 22,\n",
       "        23, 24, 25, 26, 27, 28, 29, 30, 31, 32, 33, 34, 35, 36, 37, 38, 39,\n",
       "        40, 41, 42, 43, 46, 47, 48, 50, 54, 55, 56, 57, 58, 59, 60, 62, 63,\n",
       "        64, 65, 66, 67, 68, 73, 74, 75, 76, 77, 79, 80]))"
      ]
     },
     "execution_count": 17,
     "metadata": {},
     "output_type": "execute_result"
    }
   ],
   "source": [
    "#test out drawing cards. this doesn't replace the originals.\n",
    "draw_cards(board[:6],deck,rng)"
   ]
  },
  {
   "cell_type": "code",
   "execution_count": 18,
   "id": "3f805720",
   "metadata": {},
   "outputs": [],
   "source": [
    "#takes an iterable of cards by index and returns a flat array of the card bits\n",
    "def board_to_input(card_indices):\n",
    "    model_input = bit_cards.loc[card_indices].astype(int).values.flatten()\n",
    "    model_input = tf.convert_to_tensor(model_input)\n",
    "    model_input = tf.expand_dims(model_input, 0)\n",
    "    return model_input"
   ]
  },
  {
   "cell_type": "code",
   "execution_count": 19,
   "id": "c9335d5e",
   "metadata": {},
   "outputs": [
    {
     "data": {
      "text/plain": [
       "array([ 6,  4, 71, 69, 13, 61, 53,  5, 49, 45, 17, 52])"
      ]
     },
     "execution_count": 19,
     "metadata": {},
     "output_type": "execute_result"
    }
   ],
   "source": [
    "board"
   ]
  },
  {
   "cell_type": "code",
   "execution_count": 20,
   "id": "29fd9d48",
   "metadata": {},
   "outputs": [
    {
     "data": {
      "text/plain": [
       "<tf.Tensor: shape=(1, 96), dtype=int32, numpy=\n",
       "array([[1, 0, 1, 0, 0, 0, 1, 0, 1, 0, 1, 0, 0, 1, 0, 1, 0, 0, 0, 1, 0, 0,\n",
       "        0, 0, 0, 0, 0, 1, 0, 0, 1, 0, 1, 0, 0, 1, 0, 1, 0, 1, 0, 0, 1, 0,\n",
       "        0, 0, 0, 1, 0, 1, 0, 0, 0, 0, 0, 0, 1, 0, 1, 0, 0, 1, 0, 0, 0, 1,\n",
       "        0, 0, 0, 1, 0, 1, 0, 1, 0, 0, 1, 0, 1, 0, 1, 0, 0, 1, 0, 0, 0, 0,\n",
       "        0, 1, 0, 0, 0, 0, 0, 1]])>"
      ]
     },
     "execution_count": 20,
     "metadata": {},
     "output_type": "execute_result"
    }
   ],
   "source": [
    "sample_input = board_to_input(board)\n",
    "sample_input"
   ]
  },
  {
   "cell_type": "code",
   "execution_count": 21,
   "id": "758cd0ee",
   "metadata": {},
   "outputs": [
    {
     "data": {
      "text/plain": [
       "False"
      ]
     },
     "execution_count": 21,
     "metadata": {},
     "output_type": "execute_result"
    }
   ],
   "source": [
    "#input should be the number of cards on the board (12) times the number of bits in a card (8).\n",
    "len(sample_input) == 96"
   ]
  },
  {
   "cell_type": "code",
   "execution_count": 22,
   "id": "6067d0f1",
   "metadata": {
    "scrolled": true
   },
   "outputs": [
    {
     "data": {
      "text/plain": [
       "<tf.Tensor: shape=(1, 96), dtype=int32, numpy=\n",
       "array([[1, 0, 1, 0, 0, 0, 1, 0, 1, 0, 1, 0, 0, 1, 0, 1, 0, 0, 0, 1, 0, 0,\n",
       "        0, 0, 0, 0, 0, 1, 0, 0, 1, 0, 1, 0, 0, 1, 0, 1, 0, 1, 0, 0, 1, 0,\n",
       "        0, 0, 0, 1, 0, 1, 0, 0, 0, 0, 0, 0, 1, 0, 1, 0, 0, 1, 0, 0, 0, 1,\n",
       "        0, 0, 0, 1, 0, 1, 0, 1, 0, 0, 1, 0, 1, 0, 1, 0, 0, 1, 0, 0, 0, 0,\n",
       "        0, 1, 0, 0, 0, 0, 0, 1]])>"
      ]
     },
     "execution_count": 22,
     "metadata": {},
     "output_type": "execute_result"
    }
   ],
   "source": [
    "tf.convert_to_tensor(board_to_input(board))"
   ]
  },
  {
   "cell_type": "code",
   "execution_count": 23,
   "id": "5e083114",
   "metadata": {},
   "outputs": [],
   "source": [
    "import logging"
   ]
  },
  {
   "cell_type": "code",
   "execution_count": 44,
   "id": "9aaa6ed1",
   "metadata": {
    "scrolled": false
   },
   "outputs": [
    {
     "name": "stdout",
     "output_type": "stream",
     "text": [
      "round 100.\n",
      "round 200.\n",
      "Wall time: 17.3 s\n"
     ]
    }
   ],
   "source": [
    "%%time\n",
    "\n",
    "tf.get_logger().setLevel(logging.ERROR)\n",
    "#prevents division by 0 (I think)\n",
    "eps = np.finfo(np.float32).eps.item()\n",
    "\n",
    "#boot up rng\n",
    "rng_seed = 2022\n",
    "rng = np.random.default_rng(rng_seed)\n",
    "\n",
    "#discount factor for previous rewards\n",
    "gamma = 0.995\n",
    "\n",
    "# play 21 rounds. Maximum number is 81/3 -  a few for not having any sets remaining on the board. Minimum (81-12)/=69/3 = 21 rounds\n",
    "rounds_per_game = 21\n",
    "\n",
    "num_inputs = 8*12 #12 cards at a time, 8 bits per card\n",
    "num_hidden = 256\n",
    "board_size = 12 #cards per round\n",
    "\n",
    "#build model\n",
    "inputs = layers.Input(shape = (num_inputs,))\n",
    "common_1 = layers.Dense(num_hidden, activation = 'relu', )(inputs)\n",
    "common_2 = layers.Dense(num_hidden, activation = 'relu', )(common_1)\n",
    "picks = layers.Dense(board_size, activation = 'softmax')(common_2)\n",
    "critic = layers.Dense(1)(common_2)\n",
    "model = keras.Model(inputs = inputs, outputs = [picks, critic])\n",
    "\n",
    "#make optimizer\n",
    "optimizer = keras.optimizers.Adam(learning_rate = 0.01)\n",
    "\n",
    "#loss function\n",
    "# loss = sum\n",
    "\n",
    "#these track the outputs of the model and the result for a single game. They are cleared for each new game.\n",
    "#round_results is a list of 0s, 1s, whether they picked a set or not this game.\n",
    "choice_probs_history = []\n",
    "critic_value_history = []\n",
    "round_results = []\n",
    "\n",
    "#game_scores will be a list of total correct sets chosen for each game.\n",
    "game_losses = []\n",
    "\n",
    "#get 0 and 1 values for the entire deck\n",
    "card_values = bit_cards.astype(int).values\n",
    "\n",
    "\n",
    "hi = 0\n",
    "#repeatedly play full games\n",
    "while hi <200:\n",
    "    hi+= 1\n",
    "    #turn this hi stuff back into while True with a break check at the end\n",
    "    \n",
    "    #make a new GradientTape for each game.\n",
    "    with tf.GradientTape() as tape:\n",
    "        #play a game. This is analogous to the cartpole \"episodes\"\n",
    "        #place initial cards and set the deck aside\n",
    "        board, deck = initialize_board(81, 12, rng)\n",
    "        \n",
    "        #go through the rounds for this game.\n",
    "        for this_round in range(rounds_per_game):\n",
    "            #convert cards on board to input for model\n",
    "            state = board_to_input(board)\n",
    "            #make choices and predict the result\n",
    "            choice_probs, critic_value = model(state)\n",
    "            #pick the three chosen cards on the board to constitute a set. Choice probabilities\n",
    "            #correspond to a position on the board. `choices` are the actual ids of the cards.\n",
    "            choices, new_board = draw_cards([], board, rng, board_size = 3, p = np.squeeze(choice_probs,0))\n",
    "            choices = [int(choice) for choice in choices]\n",
    "            #get the locations of those cards on the undrawn-from board \n",
    "            choice_board_indices = [\n",
    "                np.where(board == choice)[0][0]\n",
    "                for choice in choices\n",
    "            ]\n",
    "            #get the probabilities of just the chosen cards. not necessarily the most likely.\n",
    "            these_choices_probs = [\n",
    "                choice_probs[0][index]\n",
    "                for index in choice_board_indices\n",
    "            ]\n",
    "            mean_choice_prob = np.mean(these_choices_probs)\n",
    "            #assess if the three choices are a set. 0 or 1.\n",
    "            result = int(setQ(index_to_series_list(choices)))\n",
    "            choice_probs_history.append(mean_choice_prob)\n",
    "            critic_value_history.append(critic_value)\n",
    "            round_results.append(result)\n",
    "            \n",
    "            #replace missing cards on the board\n",
    "            board, deck = draw_cards(new_board, deck, rng)\n",
    "            \n",
    "        #done playing a full game.\n",
    "        \n",
    "#       #normalize round results\n",
    "#       round_results = np.array(round_results)\n",
    "#       round_results = (round_results - np.mean(round_results))/(np.std(round_results)+eps)\n",
    "\n",
    "        \n",
    "        history = zip(choice_probs_history, critic_value_history, round_results)\n",
    "        actor_losses = []\n",
    "        critic_losses = []\n",
    "        for log_prob, critic_value, result_value in history:\n",
    "            #get critic incorrectness. will be 0 or 1\n",
    "            critic_loss = abs(result_value - critic_value)[0,0]\n",
    "            #save losses for critic\n",
    "            critic_losses.append(\n",
    "               critic_loss\n",
    "            )\n",
    "            #punish the actor for each round by the actor's confidence in a wrong answer.\n",
    "            actor_losses.append(-log_prob * critic_loss)\n",
    "\n",
    "        loss_value = (sum(actor_losses) + sum(critic_losses) + sum(round_results))\n",
    "        game_losses.append(loss_value)\n",
    "        #print(float(loss_value))\n",
    "        grads = tape.gradient(loss_value, model.trainable_variables, )\n",
    "        optimizer.apply_gradients(zip(grads, model.trainable_variables))\n",
    "        \n",
    "        choice_probs_history.clear()\n",
    "        critic_value_history.clear()\n",
    "        round_results.clear()\n",
    "        \n",
    "        if hi%100 == 0:\n",
    "            print(f'round {hi}.')"
   ]
  },
  {
   "cell_type": "code",
   "execution_count": 45,
   "id": "3c3e1ed8",
   "metadata": {},
   "outputs": [],
   "source": [
    "model.save('./one_million_games')"
   ]
  },
  {
   "cell_type": "code",
   "execution_count": 47,
   "id": "5c7f8c88",
   "metadata": {
    "scrolled": true
   },
   "outputs": [
    {
     "data": {
      "text/plain": [
       "[<matplotlib.lines.Line2D at 0x15a95df8040>]"
      ]
     },
     "execution_count": 47,
     "metadata": {},
     "output_type": "execute_result"
    },
    {
     "data": {
      "image/png": "[encoded data removed]",
      "text/plain": [
       "<Figure size 432x288 with 1 Axes>"
      ]
     },
     "metadata": {
      "needs_background": "light"
     },
     "output_type": "display_data"
    }
   ],
   "source": [
    "plt.plot(game_losses)"
   ]
  },
  {
   "cell_type": "code",
   "execution_count": 48,
   "id": "ea07b786",
   "metadata": {},
   "outputs": [
    {
     "data": {
      "text/plain": [
       "<tf.Tensor: shape=(), dtype=float32, numpy=0.00063101074>"
      ]
     },
     "execution_count": 48,
     "metadata": {},
     "output_type": "execute_result"
    }
   ],
   "source": [
    "critic_value[0,0]"
   ]
  },
  {
   "cell_type": "code",
   "execution_count": 49,
   "id": "8c05fea4",
   "metadata": {
    "scrolled": true
   },
   "outputs": [
    {
     "data": {
      "text/plain": [
       "<tf.Tensor: shape=(), dtype=float32, numpy=0.00063101074>"
      ]
     },
     "execution_count": 49,
     "metadata": {},
     "output_type": "execute_result"
    }
   ],
   "source": [
    "abs(result_value - critic_value)[0,0]"
   ]
  },
  {
   "cell_type": "code",
   "execution_count": 50,
   "id": "43e7fcfd",
   "metadata": {},
   "outputs": [
    {
     "data": {
      "text/plain": [
       "<tf.Tensor: shape=(1, 1), dtype=float32, numpy=array([[0.00063101]], dtype=float32)>"
      ]
     },
     "execution_count": 50,
     "metadata": {},
     "output_type": "execute_result"
    }
   ],
   "source": [
    "critic_value"
   ]
  },
  {
   "cell_type": "code",
   "execution_count": 51,
   "id": "971d8437",
   "metadata": {},
   "outputs": [
    {
     "data": {
      "text/plain": [
       "[<matplotlib.lines.Line2D at 0x15a95e62af0>]"
      ]
     },
     "execution_count": 51,
     "metadata": {},
     "output_type": "execute_result"
    },
    {
     "data": {
      "image/png": "[encoded data removed]",
      "text/plain": [
       "<Figure size 432x288 with 1 Axes>"
      ]
     },
     "metadata": {
      "needs_background": "light"
     },
     "output_type": "display_data"
    }
   ],
   "source": [
    "plt.plot(game_losses[10:])"
   ]
  },
  {
   "cell_type": "code",
   "execution_count": 52,
   "id": "1c4a8243",
   "metadata": {},
   "outputs": [],
   "source": [
    "# did it work?"
   ]
  },
  {
   "cell_type": "code",
   "execution_count": 53,
   "id": "afd18431",
   "metadata": {},
   "outputs": [
    {
     "data": {
      "text/plain": [
       "array([24,  9, 51, 20, 50, 54, 27, 28, 41, 80, 26, 37])"
      ]
     },
     "execution_count": 53,
     "metadata": {},
     "output_type": "execute_result"
    }
   ],
   "source": [
    "#look at the board\n",
    "board"
   ]
  },
  {
   "cell_type": "code",
   "execution_count": 54,
   "id": "306c322e",
   "metadata": {},
   "outputs": [],
   "source": [
    "#what does the model decide when given this board?\n",
    "state = board_to_input(board)\n",
    "choice_probs, critic_value = model(state)"
   ]
  },
  {
   "cell_type": "code",
   "execution_count": 55,
   "id": "17226b2d",
   "metadata": {},
   "outputs": [
    {
     "data": {
      "text/plain": [
       "<tf.Tensor: shape=(1, 12), dtype=float32, numpy=\n",
       "array([[0.08345829, 0.0833939 , 0.0833997 , 0.08325356, 0.08337065,\n",
       "        0.08324045, 0.08341904, 0.08339405, 0.08315274, 0.08334358,\n",
       "        0.08320343, 0.08337051]], dtype=float32)>"
      ]
     },
     "execution_count": 55,
     "metadata": {},
     "output_type": "execute_result"
    }
   ],
   "source": [
    "choice_probs"
   ]
  },
  {
   "cell_type": "code",
   "execution_count": 56,
   "id": "fe2ff363",
   "metadata": {},
   "outputs": [],
   "source": [
    "# the critic's incorrectness isn't important enough. It looks like it is just settling on saying it'll fail every time.\n",
    "# it is likely not seeing enough correct answers to learn to improve. Let it run for a while!"
   ]
  },
  {
   "cell_type": "code",
   "execution_count": 57,
   "id": "1420e78d",
   "metadata": {
    "scrolled": true
   },
   "outputs": [
    {
     "data": {
      "text/plain": [
       "[<tf.Tensor: shape=(1, 12), dtype=float32, numpy=\n",
       " array([[0.08345829, 0.0833939 , 0.0833997 , 0.08325356, 0.08337065,\n",
       "         0.08324045, 0.08341904, 0.08339405, 0.08315274, 0.08334358,\n",
       "         0.08320343, 0.08337051]], dtype=float32)>,\n",
       " <tf.Tensor: shape=(1, 1), dtype=float32, numpy=array([[-0.00046133]], dtype=float32)>]"
      ]
     },
     "execution_count": 57,
     "metadata": {},
     "output_type": "execute_result"
    }
   ],
   "source": [
    "model(state)"
   ]
  },
  {
   "cell_type": "code",
   "execution_count": 58,
   "id": "ac569c01",
   "metadata": {},
   "outputs": [
    {
     "data": {
      "text/plain": [
       "0"
      ]
     },
     "execution_count": 58,
     "metadata": {},
     "output_type": "execute_result"
    }
   ],
   "source": [
    "result_value"
   ]
  },
  {
   "cell_type": "code",
   "execution_count": 59,
   "id": "ddc551fe",
   "metadata": {},
   "outputs": [
    {
     "data": {
      "text/plain": [
       "<tf.Tensor: shape=(), dtype=float32, numpy=0.00046132703>"
      ]
     },
     "execution_count": 59,
     "metadata": {},
     "output_type": "execute_result"
    }
   ],
   "source": [
    "abs(result_value - critic_value[0,0])"
   ]
  },
  {
   "cell_type": "code",
   "execution_count": 60,
   "id": "77dbc6e9",
   "metadata": {},
   "outputs": [
    {
     "data": {
      "text/plain": [
       "0"
      ]
     },
     "execution_count": 60,
     "metadata": {},
     "output_type": "execute_result"
    }
   ],
   "source": [
    "result_value"
   ]
  },
  {
   "cell_type": "code",
   "execution_count": 61,
   "id": "2e372b00",
   "metadata": {},
   "outputs": [
    {
     "data": {
      "text/plain": [
       "<tf.Tensor: shape=(), dtype=float32, numpy=-0.00046132703>"
      ]
     },
     "execution_count": 61,
     "metadata": {},
     "output_type": "execute_result"
    }
   ],
   "source": [
    "critic_value[0,0]"
   ]
  },
  {
   "cell_type": "code",
   "execution_count": 65,
   "id": "5dc094f5",
   "metadata": {},
   "outputs": [
    {
     "data": {
      "text/plain": [
       "[]"
      ]
     },
     "execution_count": 65,
     "metadata": {},
     "output_type": "execute_result"
    }
   ],
   "source": [
    "list(history)"
   ]
  },
  {
   "cell_type": "code",
   "execution_count": 66,
   "id": "015919df",
   "metadata": {},
   "outputs": [
    {
     "data": {
      "text/plain": [
       "[<tf.Tensor: shape=(), dtype=float32, numpy=5.822187>,\n",
       " <tf.Tensor: shape=(), dtype=float32, numpy=104.975525>,\n",
       " <tf.Tensor: shape=(), dtype=float32, numpy=39.48027>,\n",
       " <tf.Tensor: shape=(), dtype=float32, numpy=5.9510274>,\n",
       " <tf.Tensor: shape=(), dtype=float32, numpy=7.795615>,\n",
       " <tf.Tensor: shape=(), dtype=float32, numpy=7.9925566>,\n",
       " <tf.Tensor: shape=(), dtype=float32, numpy=4.871626>,\n",
       " <tf.Tensor: shape=(), dtype=float32, numpy=2.2458012>,\n",
       " <tf.Tensor: shape=(), dtype=float32, numpy=0.4318412>,\n",
       " <tf.Tensor: shape=(), dtype=float32, numpy=0.76738334>,\n",
       " <tf.Tensor: shape=(), dtype=float32, numpy=0.95272356>,\n",
       " <tf.Tensor: shape=(), dtype=float32, numpy=0.5155296>,\n",
       " <tf.Tensor: shape=(), dtype=float32, numpy=0.44026038>,\n",
       " <tf.Tensor: shape=(), dtype=float32, numpy=2.304632>,\n",
       " <tf.Tensor: shape=(), dtype=float32, numpy=0.41429698>,\n",
       " <tf.Tensor: shape=(), dtype=float32, numpy=0.23759091>,\n",
       " <tf.Tensor: shape=(), dtype=float32, numpy=0.15572676>,\n",
       " <tf.Tensor: shape=(), dtype=float32, numpy=0.11062936>,\n",
       " <tf.Tensor: shape=(), dtype=float32, numpy=0.19527598>,\n",
       " <tf.Tensor: shape=(), dtype=float32, numpy=0.18955782>,\n",
       " <tf.Tensor: shape=(), dtype=float32, numpy=0.11195045>,\n",
       " <tf.Tensor: shape=(), dtype=float32, numpy=0.07051943>,\n",
       " <tf.Tensor: shape=(), dtype=float32, numpy=0.067172505>,\n",
       " <tf.Tensor: shape=(), dtype=float32, numpy=0.12056977>,\n",
       " <tf.Tensor: shape=(), dtype=float32, numpy=0.12608577>,\n",
       " <tf.Tensor: shape=(), dtype=float32, numpy=0.058279615>,\n",
       " <tf.Tensor: shape=(), dtype=float32, numpy=1.9432025>,\n",
       " <tf.Tensor: shape=(), dtype=float32, numpy=1.9667151>,\n",
       " <tf.Tensor: shape=(), dtype=float32, numpy=0.06745331>,\n",
       " <tf.Tensor: shape=(), dtype=float32, numpy=0.050880715>,\n",
       " <tf.Tensor: shape=(), dtype=float32, numpy=0.030628245>,\n",
       " <tf.Tensor: shape=(), dtype=float32, numpy=3.8829064>,\n",
       " <tf.Tensor: shape=(), dtype=float32, numpy=0.051121958>,\n",
       " <tf.Tensor: shape=(), dtype=float32, numpy=1.9528596>,\n",
       " <tf.Tensor: shape=(), dtype=float32, numpy=1.946605>,\n",
       " <tf.Tensor: shape=(), dtype=float32, numpy=0.040102128>,\n",
       " <tf.Tensor: shape=(), dtype=float32, numpy=0.02211207>,\n",
       " <tf.Tensor: shape=(), dtype=float32, numpy=0.060703445>,\n",
       " <tf.Tensor: shape=(), dtype=float32, numpy=0.031147787>,\n",
       " <tf.Tensor: shape=(), dtype=float32, numpy=3.8463266>,\n",
       " <tf.Tensor: shape=(), dtype=float32, numpy=0.02335075>,\n",
       " <tf.Tensor: shape=(), dtype=float32, numpy=0.021555368>,\n",
       " <tf.Tensor: shape=(), dtype=float32, numpy=0.012315902>,\n",
       " <tf.Tensor: shape=(), dtype=float32, numpy=0.020425044>,\n",
       " <tf.Tensor: shape=(), dtype=float32, numpy=0.0085578095>,\n",
       " <tf.Tensor: shape=(), dtype=float32, numpy=1.9262348>,\n",
       " <tf.Tensor: shape=(), dtype=float32, numpy=0.00892758>,\n",
       " <tf.Tensor: shape=(), dtype=float32, numpy=0.006957762>,\n",
       " <tf.Tensor: shape=(), dtype=float32, numpy=0.016759587>,\n",
       " <tf.Tensor: shape=(), dtype=float32, numpy=1.93209>,\n",
       " <tf.Tensor: shape=(), dtype=float32, numpy=1.9315827>,\n",
       " <tf.Tensor: shape=(), dtype=float32, numpy=1.9319506>,\n",
       " <tf.Tensor: shape=(), dtype=float32, numpy=1.9323045>,\n",
       " <tf.Tensor: shape=(), dtype=float32, numpy=0.014419753>,\n",
       " <tf.Tensor: shape=(), dtype=float32, numpy=0.01613334>,\n",
       " <tf.Tensor: shape=(), dtype=float32, numpy=0.008246129>,\n",
       " <tf.Tensor: shape=(), dtype=float32, numpy=0.016482718>,\n",
       " <tf.Tensor: shape=(), dtype=float32, numpy=0.01381959>,\n",
       " <tf.Tensor: shape=(), dtype=float32, numpy=0.009702068>,\n",
       " <tf.Tensor: shape=(), dtype=float32, numpy=0.0074485396>,\n",
       " <tf.Tensor: shape=(), dtype=float32, numpy=0.022317898>,\n",
       " <tf.Tensor: shape=(), dtype=float32, numpy=0.010736851>,\n",
       " <tf.Tensor: shape=(), dtype=float32, numpy=0.020454368>,\n",
       " <tf.Tensor: shape=(), dtype=float32, numpy=0.017598694>,\n",
       " <tf.Tensor: shape=(), dtype=float32, numpy=0.015389465>,\n",
       " <tf.Tensor: shape=(), dtype=float32, numpy=1.9350548>,\n",
       " <tf.Tensor: shape=(), dtype=float32, numpy=0.006319162>,\n",
       " <tf.Tensor: shape=(), dtype=float32, numpy=0.01405902>,\n",
       " <tf.Tensor: shape=(), dtype=float32, numpy=1.9245007>,\n",
       " <tf.Tensor: shape=(), dtype=float32, numpy=3.8408403>,\n",
       " <tf.Tensor: shape=(), dtype=float32, numpy=0.017449256>,\n",
       " <tf.Tensor: shape=(), dtype=float32, numpy=1.923611>,\n",
       " <tf.Tensor: shape=(), dtype=float32, numpy=0.011399422>,\n",
       " <tf.Tensor: shape=(), dtype=float32, numpy=0.013258854>,\n",
       " <tf.Tensor: shape=(), dtype=float32, numpy=0.005236808>,\n",
       " <tf.Tensor: shape=(), dtype=float32, numpy=0.0071057715>,\n",
       " <tf.Tensor: shape=(), dtype=float32, numpy=0.010208599>,\n",
       " <tf.Tensor: shape=(), dtype=float32, numpy=0.013279071>,\n",
       " <tf.Tensor: shape=(), dtype=float32, numpy=0.0037137116>,\n",
       " <tf.Tensor: shape=(), dtype=float32, numpy=0.006814227>,\n",
       " <tf.Tensor: shape=(), dtype=float32, numpy=0.011802319>,\n",
       " <tf.Tensor: shape=(), dtype=float32, numpy=0.0054660887>,\n",
       " <tf.Tensor: shape=(), dtype=float32, numpy=1.9239689>,\n",
       " <tf.Tensor: shape=(), dtype=float32, numpy=0.017329916>,\n",
       " <tf.Tensor: shape=(), dtype=float32, numpy=0.008845369>,\n",
       " <tf.Tensor: shape=(), dtype=float32, numpy=0.0066903615>,\n",
       " <tf.Tensor: shape=(), dtype=float32, numpy=0.012085035>,\n",
       " <tf.Tensor: shape=(), dtype=float32, numpy=1.9282401>,\n",
       " <tf.Tensor: shape=(), dtype=float32, numpy=0.0052071703>,\n",
       " <tf.Tensor: shape=(), dtype=float32, numpy=0.029741965>,\n",
       " <tf.Tensor: shape=(), dtype=float32, numpy=0.031701244>,\n",
       " <tf.Tensor: shape=(), dtype=float32, numpy=0.007360594>,\n",
       " <tf.Tensor: shape=(), dtype=float32, numpy=1.9459215>,\n",
       " <tf.Tensor: shape=(), dtype=float32, numpy=1.9458162>,\n",
       " <tf.Tensor: shape=(), dtype=float32, numpy=0.004384837>,\n",
       " <tf.Tensor: shape=(), dtype=float32, numpy=3.8476012>,\n",
       " <tf.Tensor: shape=(), dtype=float32, numpy=0.0045142877>,\n",
       " <tf.Tensor: shape=(), dtype=float32, numpy=1.9393514>,\n",
       " <tf.Tensor: shape=(), dtype=float32, numpy=0.02324342>,\n",
       " <tf.Tensor: shape=(), dtype=float32, numpy=0.0059911124>,\n",
       " <tf.Tensor: shape=(), dtype=float32, numpy=0.010287867>,\n",
       " <tf.Tensor: shape=(), dtype=float32, numpy=3.8439922>,\n",
       " <tf.Tensor: shape=(), dtype=float32, numpy=1.9280523>,\n",
       " <tf.Tensor: shape=(), dtype=float32, numpy=0.013678308>,\n",
       " <tf.Tensor: shape=(), dtype=float32, numpy=0.010775928>,\n",
       " <tf.Tensor: shape=(), dtype=float32, numpy=0.02091579>,\n",
       " <tf.Tensor: shape=(), dtype=float32, numpy=0.018412173>,\n",
       " <tf.Tensor: shape=(), dtype=float32, numpy=0.0098280655>,\n",
       " <tf.Tensor: shape=(), dtype=float32, numpy=0.028194107>,\n",
       " <tf.Tensor: shape=(), dtype=float32, numpy=0.02781809>,\n",
       " <tf.Tensor: shape=(), dtype=float32, numpy=0.011438908>,\n",
       " <tf.Tensor: shape=(), dtype=float32, numpy=0.02978905>,\n",
       " <tf.Tensor: shape=(), dtype=float32, numpy=0.038960673>,\n",
       " <tf.Tensor: shape=(), dtype=float32, numpy=0.017343642>,\n",
       " <tf.Tensor: shape=(), dtype=float32, numpy=0.030047875>,\n",
       " <tf.Tensor: shape=(), dtype=float32, numpy=1.9507759>,\n",
       " <tf.Tensor: shape=(), dtype=float32, numpy=0.014248938>,\n",
       " <tf.Tensor: shape=(), dtype=float32, numpy=0.02740052>,\n",
       " <tf.Tensor: shape=(), dtype=float32, numpy=0.04911083>,\n",
       " <tf.Tensor: shape=(), dtype=float32, numpy=1.9410288>,\n",
       " <tf.Tensor: shape=(), dtype=float32, numpy=0.009807205>,\n",
       " <tf.Tensor: shape=(), dtype=float32, numpy=0.017710706>,\n",
       " <tf.Tensor: shape=(), dtype=float32, numpy=0.006742829>,\n",
       " <tf.Tensor: shape=(), dtype=float32, numpy=0.0125095025>,\n",
       " <tf.Tensor: shape=(), dtype=float32, numpy=0.009833393>,\n",
       " <tf.Tensor: shape=(), dtype=float32, numpy=0.0062885555>,\n",
       " <tf.Tensor: shape=(), dtype=float32, numpy=0.020183938>,\n",
       " <tf.Tensor: shape=(), dtype=float32, numpy=1.9255253>,\n",
       " <tf.Tensor: shape=(), dtype=float32, numpy=0.021430355>,\n",
       " <tf.Tensor: shape=(), dtype=float32, numpy=0.025000373>,\n",
       " <tf.Tensor: shape=(), dtype=float32, numpy=0.0050544203>,\n",
       " <tf.Tensor: shape=(), dtype=float32, numpy=0.027966259>,\n",
       " <tf.Tensor: shape=(), dtype=float32, numpy=1.9403894>,\n",
       " <tf.Tensor: shape=(), dtype=float32, numpy=3.8398776>,\n",
       " <tf.Tensor: shape=(), dtype=float32, numpy=0.020274324>,\n",
       " <tf.Tensor: shape=(), dtype=float32, numpy=0.012942497>,\n",
       " <tf.Tensor: shape=(), dtype=float32, numpy=0.017579604>,\n",
       " <tf.Tensor: shape=(), dtype=float32, numpy=0.012940846>,\n",
       " <tf.Tensor: shape=(), dtype=float32, numpy=0.0067029595>,\n",
       " <tf.Tensor: shape=(), dtype=float32, numpy=0.01699796>,\n",
       " <tf.Tensor: shape=(), dtype=float32, numpy=1.9207536>,\n",
       " <tf.Tensor: shape=(), dtype=float32, numpy=0.022161135>,\n",
       " <tf.Tensor: shape=(), dtype=float32, numpy=0.015104248>,\n",
       " <tf.Tensor: shape=(), dtype=float32, numpy=0.017492527>,\n",
       " <tf.Tensor: shape=(), dtype=float32, numpy=1.9340701>,\n",
       " <tf.Tensor: shape=(), dtype=float32, numpy=0.0053230682>,\n",
       " <tf.Tensor: shape=(), dtype=float32, numpy=0.0039225505>,\n",
       " <tf.Tensor: shape=(), dtype=float32, numpy=1.9220427>,\n",
       " <tf.Tensor: shape=(), dtype=float32, numpy=0.007773552>,\n",
       " <tf.Tensor: shape=(), dtype=float32, numpy=0.0021759067>,\n",
       " <tf.Tensor: shape=(), dtype=float32, numpy=0.007311938>,\n",
       " <tf.Tensor: shape=(), dtype=float32, numpy=0.01421503>,\n",
       " <tf.Tensor: shape=(), dtype=float32, numpy=0.013795676>,\n",
       " <tf.Tensor: shape=(), dtype=float32, numpy=3.8487697>,\n",
       " <tf.Tensor: shape=(), dtype=float32, numpy=0.018317563>,\n",
       " <tf.Tensor: shape=(), dtype=float32, numpy=0.008264707>,\n",
       " <tf.Tensor: shape=(), dtype=float32, numpy=0.0068252063>,\n",
       " <tf.Tensor: shape=(), dtype=float32, numpy=0.014312062>,\n",
       " <tf.Tensor: shape=(), dtype=float32, numpy=0.009753375>,\n",
       " <tf.Tensor: shape=(), dtype=float32, numpy=0.027937546>,\n",
       " <tf.Tensor: shape=(), dtype=float32, numpy=0.029156247>,\n",
       " <tf.Tensor: shape=(), dtype=float32, numpy=0.004872939>,\n",
       " <tf.Tensor: shape=(), dtype=float32, numpy=0.035520434>,\n",
       " <tf.Tensor: shape=(), dtype=float32, numpy=0.047411006>,\n",
       " <tf.Tensor: shape=(), dtype=float32, numpy=1.9473784>,\n",
       " <tf.Tensor: shape=(), dtype=float32, numpy=0.0041260184>,\n",
       " <tf.Tensor: shape=(), dtype=float32, numpy=0.042606093>,\n",
       " <tf.Tensor: shape=(), dtype=float32, numpy=1.9677553>,\n",
       " <tf.Tensor: shape=(), dtype=float32, numpy=0.0374672>,\n",
       " <tf.Tensor: shape=(), dtype=float32, numpy=0.0077077528>,\n",
       " <tf.Tensor: shape=(), dtype=float32, numpy=0.017801357>,\n",
       " <tf.Tensor: shape=(), dtype=float32, numpy=0.006501401>,\n",
       " <tf.Tensor: shape=(), dtype=float32, numpy=0.019661803>,\n",
       " <tf.Tensor: shape=(), dtype=float32, numpy=0.013434624>,\n",
       " <tf.Tensor: shape=(), dtype=float32, numpy=1.9307653>,\n",
       " <tf.Tensor: shape=(), dtype=float32, numpy=0.021677457>,\n",
       " <tf.Tensor: shape=(), dtype=float32, numpy=1.9223938>,\n",
       " <tf.Tensor: shape=(), dtype=float32, numpy=0.028908733>,\n",
       " <tf.Tensor: shape=(), dtype=float32, numpy=0.035594806>,\n",
       " <tf.Tensor: shape=(), dtype=float32, numpy=0.016165063>,\n",
       " <tf.Tensor: shape=(), dtype=float32, numpy=0.023007121>,\n",
       " <tf.Tensor: shape=(), dtype=float32, numpy=0.03406943>,\n",
       " <tf.Tensor: shape=(), dtype=float32, numpy=0.018225262>,\n",
       " <tf.Tensor: shape=(), dtype=float32, numpy=0.02290004>,\n",
       " <tf.Tensor: shape=(), dtype=float32, numpy=3.866122>,\n",
       " <tf.Tensor: shape=(), dtype=float32, numpy=0.017584175>,\n",
       " <tf.Tensor: shape=(), dtype=float32, numpy=0.024156934>,\n",
       " <tf.Tensor: shape=(), dtype=float32, numpy=0.03158594>,\n",
       " <tf.Tensor: shape=(), dtype=float32, numpy=0.019102285>,\n",
       " <tf.Tensor: shape=(), dtype=float32, numpy=0.018925242>,\n",
       " <tf.Tensor: shape=(), dtype=float32, numpy=1.9460254>,\n",
       " <tf.Tensor: shape=(), dtype=float32, numpy=0.020708911>,\n",
       " <tf.Tensor: shape=(), dtype=float32, numpy=1.9302619>,\n",
       " <tf.Tensor: shape=(), dtype=float32, numpy=0.034976996>,\n",
       " <tf.Tensor: shape=(), dtype=float32, numpy=0.023724586>,\n",
       " <tf.Tensor: shape=(), dtype=float32, numpy=0.0063841627>,\n",
       " <tf.Tensor: shape=(), dtype=float32, numpy=0.018939111>,\n",
       " <tf.Tensor: shape=(), dtype=float32, numpy=0.01446977>,\n",
       " <tf.Tensor: shape=(), dtype=float32, numpy=0.012780959>,\n",
       " <tf.Tensor: shape=(), dtype=float32, numpy=0.011130927>]"
      ]
     },
     "execution_count": 66,
     "metadata": {},
     "output_type": "execute_result"
    }
   ],
   "source": [
    "game_losses"
   ]
  },
  {
   "cell_type": "code",
   "execution_count": null,
   "id": "16b9a570",
   "metadata": {},
   "outputs": [],
   "source": []
  }
 ],
 "metadata": {
  "kernelspec": {
   "display_name": "Python 3 (ipykernel)",
   "language": "python",
   "name": "python3"
  },
  "language_info": {
   "codemirror_mode": {
    "name": "ipython",
    "version": 3
   },
   "file_extension": ".py",
   "mimetype": "text/x-python",
   "name": "python",
   "nbconvert_exporter": "python",
   "pygments_lexer": "ipython3",
   "version": "3.9.7"
  }
 },
 "nbformat": 4,
 "nbformat_minor": 5
}
