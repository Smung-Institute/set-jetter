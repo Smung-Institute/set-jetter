{
 "cells": [
  {
   "cell_type": "markdown",
   "id": "e1ce33e0",
   "metadata": {},
   "source": [
    "Playing SET\n",
    "---\n",
    "\n",
    "Encode cards with 2 bits per feature."
   ]
  },
  {
   "cell_type": "code",
   "execution_count": 1,
   "id": "aaa3269c",
   "metadata": {},
   "outputs": [],
   "source": [
    "import pandas as pd\n",
    "import numpy as np\n",
    "\n",
    "\n",
    "import gym\n",
    "import tensorflow as tf\n",
    "from tensorflow import keras\n",
    "from tensorflow.keras import layers"
   ]
  },
  {
   "cell_type": "code",
   "execution_count": 2,
   "id": "cddba9e1",
   "metadata": {},
   "outputs": [
    {
     "data": {
      "text/plain": [
       "(81, 8)"
      ]
     },
     "execution_count": 2,
     "metadata": {},
     "output_type": "execute_result"
    }
   ],
   "source": [
    "#two bits are needed to store the three options\n",
    "columns = [\n",
    "    'number 1',\n",
    "    'number 2',\n",
    "    'color 1',\n",
    "    'color 2',\n",
    "    'symbol 1',\n",
    "    'symbol 2',\n",
    "    'texture 1',\n",
    "    'texture 2'\n",
    "]\n",
    "\n",
    "# a feature can be one of three \n",
    "feature_options = [\n",
    "    '10', #this\n",
    "    '01', #that\n",
    "    '00' #other\n",
    "]\n",
    "\n",
    "#make encoded card data\n",
    "cards_list = np.array([\n",
    "    [\n",
    "        [\n",
    "            [\n",
    "                [\n",
    "                    character\n",
    "                    for character in numberoption+coloroption+symboloption+textureoption\n",
    "                ]\n",
    "                for textureoption in feature_options\n",
    "            ]\n",
    "            for symboloption in feature_options\n",
    "        ]\n",
    "        for coloroption in feature_options\n",
    "    ]\n",
    "    for numberoption in feature_options\n",
    "])\n",
    "cards_list = cards_list.reshape(81,8)\n",
    "cards_list.shape"
   ]
  },
  {
   "cell_type": "code",
   "execution_count": 3,
   "id": "02c6518b",
   "metadata": {
    "scrolled": true
   },
   "outputs": [
    {
     "data": {
      "text/html": [
       "<div>\n",
       "<style scoped>\n",
       "    .dataframe tbody tr th:only-of-type {\n",
       "        vertical-align: middle;\n",
       "    }\n",
       "\n",
       "    .dataframe tbody tr th {\n",
       "        vertical-align: top;\n",
       "    }\n",
       "\n",
       "    .dataframe thead th {\n",
       "        text-align: right;\n",
       "    }\n",
       "</style>\n",
       "<table border=\"1\" class=\"dataframe\">\n",
       "  <thead>\n",
       "    <tr style=\"text-align: right;\">\n",
       "      <th></th>\n",
       "      <th>number 1</th>\n",
       "      <th>number 2</th>\n",
       "      <th>color 1</th>\n",
       "      <th>color 2</th>\n",
       "      <th>symbol 1</th>\n",
       "      <th>symbol 2</th>\n",
       "      <th>texture 1</th>\n",
       "      <th>texture 2</th>\n",
       "    </tr>\n",
       "    <tr>\n",
       "      <th>card index</th>\n",
       "      <th></th>\n",
       "      <th></th>\n",
       "      <th></th>\n",
       "      <th></th>\n",
       "      <th></th>\n",
       "      <th></th>\n",
       "      <th></th>\n",
       "      <th></th>\n",
       "    </tr>\n",
       "  </thead>\n",
       "  <tbody>\n",
       "    <tr>\n",
       "      <th>0</th>\n",
       "      <td>True</td>\n",
       "      <td>False</td>\n",
       "      <td>True</td>\n",
       "      <td>False</td>\n",
       "      <td>True</td>\n",
       "      <td>False</td>\n",
       "      <td>True</td>\n",
       "      <td>False</td>\n",
       "    </tr>\n",
       "    <tr>\n",
       "      <th>1</th>\n",
       "      <td>True</td>\n",
       "      <td>False</td>\n",
       "      <td>True</td>\n",
       "      <td>False</td>\n",
       "      <td>True</td>\n",
       "      <td>False</td>\n",
       "      <td>False</td>\n",
       "      <td>True</td>\n",
       "    </tr>\n",
       "    <tr>\n",
       "      <th>2</th>\n",
       "      <td>True</td>\n",
       "      <td>False</td>\n",
       "      <td>True</td>\n",
       "      <td>False</td>\n",
       "      <td>True</td>\n",
       "      <td>False</td>\n",
       "      <td>False</td>\n",
       "      <td>False</td>\n",
       "    </tr>\n",
       "    <tr>\n",
       "      <th>3</th>\n",
       "      <td>True</td>\n",
       "      <td>False</td>\n",
       "      <td>True</td>\n",
       "      <td>False</td>\n",
       "      <td>False</td>\n",
       "      <td>True</td>\n",
       "      <td>True</td>\n",
       "      <td>False</td>\n",
       "    </tr>\n",
       "    <tr>\n",
       "      <th>4</th>\n",
       "      <td>True</td>\n",
       "      <td>False</td>\n",
       "      <td>True</td>\n",
       "      <td>False</td>\n",
       "      <td>False</td>\n",
       "      <td>True</td>\n",
       "      <td>False</td>\n",
       "      <td>True</td>\n",
       "    </tr>\n",
       "  </tbody>\n",
       "</table>\n",
       "</div>"
      ],
      "text/plain": [
       "            number 1  number 2  color 1  color 2  symbol 1  symbol 2  \\\n",
       "card index                                                             \n",
       "0               True     False     True    False      True     False   \n",
       "1               True     False     True    False      True     False   \n",
       "2               True     False     True    False      True     False   \n",
       "3               True     False     True    False     False      True   \n",
       "4               True     False     True    False     False      True   \n",
       "\n",
       "            texture 1  texture 2  \n",
       "card index                        \n",
       "0                True      False  \n",
       "1               False       True  \n",
       "2               False      False  \n",
       "3                True      False  \n",
       "4               False       True  "
      ]
     },
     "execution_count": 3,
     "metadata": {},
     "output_type": "execute_result"
    }
   ],
   "source": [
    "#encode each card as a row in a dataframe with 1-bit columns\n",
    "bit_cards = pd.DataFrame(cards_list, columns = columns) .astype(int).astype(bool) #can't tell the difference between '1' and '0' until it's been turned to int\n",
    "bit_cards.index.name = 'card index'\n",
    "bit_cards.head()"
   ]
  },
  {
   "cell_type": "code",
   "execution_count": 4,
   "id": "35e6bd32",
   "metadata": {},
   "outputs": [],
   "source": [
    "#encode each card as a row in a dataframe with 2-bit columns\n",
    "columns = [\n",
    "    'number',\n",
    "    'color',\n",
    "    'symbol',\n",
    "    'texture'\n",
    "]\n",
    "\n",
    "feature_options = 'abc'\n",
    "\n",
    "cards_list = np.array([\n",
    "    [\n",
    "        [\n",
    "            [\n",
    "                [numberoption, coloroption, symboloption, textureoption]\n",
    "                for textureoption in feature_options\n",
    "            ]\n",
    "            for symboloption in feature_options\n",
    "        ]\n",
    "        for coloroption in feature_options\n",
    "    ]\n",
    "    for numberoption in feature_options\n",
    "]).reshape(81,4)\n",
    "\n",
    "cards = pd.DataFrame(cards_list, columns = columns)"
   ]
  },
  {
   "cell_type": "code",
   "execution_count": 5,
   "id": "e5b0007e",
   "metadata": {},
   "outputs": [
    {
     "data": {
      "text/plain": [
       "(  number color symbol texture\n",
       " 0      a     a      a       a\n",
       " 1      a     a      a       b\n",
       " 2      a     a      a       c\n",
       " 3      a     a      b       a\n",
       " 4      a     a      b       b,\n",
       "    number color symbol texture\n",
       " 76      c     c      b       b\n",
       " 77      c     c      b       c\n",
       " 78      c     c      c       a\n",
       " 79      c     c      c       b\n",
       " 80      c     c      c       c)"
      ]
     },
     "execution_count": 5,
     "metadata": {},
     "output_type": "execute_result"
    }
   ],
   "source": [
    "cards.head(), cards.tail()"
   ]
  },
  {
   "cell_type": "code",
   "execution_count": 86,
   "id": "494d8dc3",
   "metadata": {},
   "outputs": [],
   "source": [
    "# determine if three cards are a set\n",
    "\n",
    "\n",
    "#checks if the feature value for three series is all the same thing\n",
    "\n",
    "def all_same(series1, series2, series3, feature):\n",
    "    return series1[feature] == series2[feature] and series2[feature] == series3[feature]\n",
    "\n",
    "#checks if the feature values for three series are all unique\n",
    "\n",
    "def all_diffnt(series1, series2, series3, feature):\n",
    "    return series1[feature] != series2[feature] and series2[feature] != series3[feature] and series3[feature] != series1[feature]\n",
    "    \n",
    "    \n",
    "#gives True if the three cards are a set, False if not\n",
    "#feed this a pd.Series of the 4 features\n",
    "\n",
    "def setQ(card_list):\n",
    "    card1, card2, card3 = card_list\n",
    "    #assumes the cards are a set at the outset. Will turn to False if it fails any of the tests.\n",
    "    setA = True\n",
    "    features = ['number','color','symbol','texture']\n",
    "    for feature in features:\n",
    "        feature_check = all_same(card1, card2, card3, feature) or all_diffnt(card1,card2,card3,feature)\n",
    "        setA = setA and feature_check\n",
    "    return setA\n",
    "            "
   ]
  },
  {
   "cell_type": "code",
   "execution_count": 7,
   "id": "8d956409",
   "metadata": {},
   "outputs": [
    {
     "data": {
      "text/plain": [
       "True"
      ]
     },
     "execution_count": 7,
     "metadata": {},
     "output_type": "execute_result"
    }
   ],
   "source": [
    "#are the first three cards a set?\n",
    "setQ(cards.loc[0],cards.loc[1],cards.loc[2])"
   ]
  },
  {
   "cell_type": "code",
   "execution_count": 8,
   "id": "e13577c7",
   "metadata": {},
   "outputs": [
    {
     "data": {
      "text/plain": [
       "False"
      ]
     },
     "execution_count": 8,
     "metadata": {},
     "output_type": "execute_result"
    }
   ],
   "source": [
    "#are the first two and the fourth a set?\n",
    "setQ(cards.loc[0],cards.loc[1],cards.loc[3])"
   ]
  },
  {
   "cell_type": "code",
   "execution_count": 107,
   "id": "ef42be5a",
   "metadata": {},
   "outputs": [],
   "source": [
    "#convert a 2-bit encoded card into a 3-bit card.\n",
    "\n",
    "def two_to_three_bits(two_bit_series):\n",
    "    two_bit_columns = [\n",
    "    'number 1',\n",
    "    'number 2',\n",
    "    'color 1',\n",
    "    'color 2',\n",
    "    'symbol 1',\n",
    "    'symbol 2',\n",
    "    'texture 1',\n",
    "    'texture 2'\n",
    "    ]\n",
    "    three_bit_columns = [\n",
    "    'number',\n",
    "    'color',\n",
    "    'symbol',\n",
    "    'texture'\n",
    "    ]\n",
    "    three_bit_series = pd.Series(dtype='object', index = three_bit_columns)\n",
    "    for column in three_bit_columns:\n",
    "        if two_bit_series[column + ' 1']:\n",
    "            this_value = 'a'\n",
    "        elif two_bit_series[column + ' 2']:\n",
    "            this_value = 'b'\n",
    "        else:\n",
    "            this_value = 'c'\n",
    "        three_bit_series[column] = this_value\n",
    "    return three_bit_series\n",
    "\n",
    "def index_to_series_list(index_list):\n",
    "    return [\n",
    "        cards.loc[index]\n",
    "        for index in index_list\n",
    "    ]"
   ]
  },
  {
   "cell_type": "code",
   "execution_count": 10,
   "id": "07046eb1",
   "metadata": {},
   "outputs": [
    {
     "data": {
      "text/plain": [
       "number     a\n",
       "color      a\n",
       "symbol     a\n",
       "texture    a\n",
       "dtype: object"
      ]
     },
     "execution_count": 10,
     "metadata": {},
     "output_type": "execute_result"
    }
   ],
   "source": [
    "#encode the first two-bit card as a three-bit\n",
    "two_to_three_bits(bit_cards.loc[0])"
   ]
  },
  {
   "cell_type": "code",
   "execution_count": 11,
   "id": "754e155f",
   "metadata": {},
   "outputs": [],
   "source": [
    "#two-bit cards are easier to feed to a model."
   ]
  },
  {
   "cell_type": "markdown",
   "id": "463b2a96",
   "metadata": {},
   "source": [
    "actor-critic model\n",
    "---\n",
    "\n",
    "the model will be fed `8*12 == 96` bits corresponding to twelve cards data. It then will give a set of cards to take as well as a prediction of whether it"
   ]
  },
  {
   "cell_type": "code",
   "execution_count": 12,
   "id": "f6284f19",
   "metadata": {},
   "outputs": [],
   "source": [
    "rng_seed = 2022\n",
    "rng = np.random.default_rng(rng_seed)"
   ]
  },
  {
   "cell_type": "code",
   "execution_count": 13,
   "id": "61c3a2c6",
   "metadata": {},
   "outputs": [
    {
     "data": {
      "text/plain": [
       "array([19, 60, 55])"
      ]
     },
     "execution_count": 13,
     "metadata": {},
     "output_type": "execute_result"
    }
   ],
   "source": [
    "rng.choice(range(81), 3, replace = False)"
   ]
  },
  {
   "cell_type": "code",
   "execution_count": 81,
   "id": "42191387",
   "metadata": {},
   "outputs": [],
   "source": [
    "#splits a deck into cards on the board and cards left in the deck.\n",
    "def initialize_board(num_cards, board_size, rng):\n",
    "    card_list = list(range(num_cards))\n",
    "    board = rng.choice(card_list, board_size, replace = False)\n",
    "    card_list = np.array([\n",
    "        card\n",
    "        for card in card_list\n",
    "        if card not in board\n",
    "    ])\n",
    "    return board, card_list\n",
    "\n",
    "#takes a board, a deck, and draws up to the board size.\n",
    "# returns a new board with added cards and the deck with those\n",
    "#cards removed.\n",
    "def draw_cards(board, deck, rng, board_size = 12, p = None):\n",
    "    num_cards_to_draw = board_size - len(board)\n",
    "    if len(board) + len(deck) < board_size:\n",
    "        print(f'{num_cards_to_draw} cards are needed to complete the board, but only {len(card_list)} remain in the deck.' )\n",
    "        return None\n",
    "    else:\n",
    "        drawn_cards = rng.choice(deck, num_cards_to_draw, replace = False, p = p)\n",
    "        new_deck = list(deck)\n",
    "        for card in drawn_cards:\n",
    "            new_deck.remove(card)\n",
    "        new_deck = np.array(new_deck)\n",
    "        new_board = np.concatenate([board, drawn_cards])\n",
    "        return new_board, new_deck"
   ]
  },
  {
   "cell_type": "code",
   "execution_count": 16,
   "id": "c415ae56",
   "metadata": {
    "scrolled": false
   },
   "outputs": [
    {
     "data": {
      "text/plain": [
       "(array([ 6,  4, 71, 69, 13, 61, 53,  5, 49, 45, 17, 52]),\n",
       " array([ 0,  1,  2,  3,  7,  8,  9, 10, 11, 12, 14, 15, 16, 18, 19, 20, 21,\n",
       "        22, 23, 24, 25, 26, 27, 28, 29, 30, 31, 32, 33, 34, 35, 36, 37, 38,\n",
       "        39, 40, 41, 42, 43, 44, 46, 47, 48, 50, 51, 54, 55, 56, 57, 58, 59,\n",
       "        60, 62, 63, 64, 65, 66, 67, 68, 70, 72, 73, 74, 75, 76, 77, 78, 79,\n",
       "        80]))"
      ]
     },
     "execution_count": 16,
     "metadata": {},
     "output_type": "execute_result"
    }
   ],
   "source": [
    "#initialize a game\n",
    "board, deck = initialize_board(81,12,np.random.default_rng(2022))\n",
    "board, deck"
   ]
  },
  {
   "cell_type": "code",
   "execution_count": 19,
   "id": "d5277d15",
   "metadata": {
    "scrolled": true
   },
   "outputs": [
    {
     "data": {
      "text/plain": [
       "(array([ 6,  4, 71, 69, 13, 61, 78, 80, 30, 67, 31,  9]),\n",
       " array([ 0,  1,  2,  3,  7,  8, 10, 11, 12, 14, 15, 16, 18, 19, 20, 21, 22,\n",
       "        23, 24, 25, 26, 27, 28, 29, 32, 33, 34, 35, 36, 37, 38, 39, 40, 41,\n",
       "        42, 43, 44, 46, 47, 48, 50, 51, 54, 55, 56, 57, 58, 59, 60, 62, 63,\n",
       "        64, 65, 66, 68, 70, 72, 73, 74, 75, 76, 77, 79]))"
      ]
     },
     "execution_count": 19,
     "metadata": {},
     "output_type": "execute_result"
    }
   ],
   "source": [
    "#test out drawing cards. this doesn't replace the originals.\n",
    "draw_cards(board[:6],deck,rng)"
   ]
  },
  {
   "cell_type": "code",
   "execution_count": 56,
   "id": "3f805720",
   "metadata": {},
   "outputs": [],
   "source": [
    "#takes an iterable of cards by index and returns a flat array of the card bits\n",
    "def board_to_input(card_indices):\n",
    "    model_input = bit_cards.loc[card_indices].astype(int).values.flatten()\n",
    "    model_input = tf.convert_to_tensor(model_input)\n",
    "    model_input = tf.expand_dims(model_input, 0)\n",
    "    return model_input"
   ]
  },
  {
   "cell_type": "code",
   "execution_count": 48,
   "id": "c9335d5e",
   "metadata": {},
   "outputs": [
    {
     "data": {
      "text/plain": [
       "array([ 6,  4, 71, 69, 13, 61, 53,  5, 49, 45, 17, 52])"
      ]
     },
     "execution_count": 48,
     "metadata": {},
     "output_type": "execute_result"
    }
   ],
   "source": [
    "board"
   ]
  },
  {
   "cell_type": "code",
   "execution_count": 49,
   "id": "29fd9d48",
   "metadata": {},
   "outputs": [
    {
     "data": {
      "text/plain": [
       "<tf.Tensor: shape=(1, 1, 96), dtype=int32, numpy=\n",
       "array([[[1, 0, 1, 0, 0, 0, 1, 0, 1, 0, 1, 0, 0, 1, 0, 1, 0, 0, 0, 1, 0,\n",
       "         0, 0, 0, 0, 0, 0, 1, 0, 0, 1, 0, 1, 0, 0, 1, 0, 1, 0, 1, 0, 0,\n",
       "         1, 0, 0, 0, 0, 1, 0, 1, 0, 0, 0, 0, 0, 0, 1, 0, 1, 0, 0, 1, 0,\n",
       "         0, 0, 1, 0, 0, 0, 1, 0, 1, 0, 1, 0, 0, 1, 0, 1, 0, 1, 0, 0, 1,\n",
       "         0, 0, 0, 0, 0, 1, 0, 0, 0, 0, 0, 1]]])>"
      ]
     },
     "execution_count": 49,
     "metadata": {},
     "output_type": "execute_result"
    }
   ],
   "source": [
    "sample_input = board_to_input(board)\n",
    "sample_input"
   ]
  },
  {
   "cell_type": "code",
   "execution_count": 50,
   "id": "758cd0ee",
   "metadata": {},
   "outputs": [
    {
     "data": {
      "text/plain": [
       "False"
      ]
     },
     "execution_count": 50,
     "metadata": {},
     "output_type": "execute_result"
    }
   ],
   "source": [
    "#input should be the number of cards on the board (12) times the number of bits in a card (8).\n",
    "len(sample_input) == 96"
   ]
  },
  {
   "cell_type": "code",
   "execution_count": 51,
   "id": "6067d0f1",
   "metadata": {
    "scrolled": false
   },
   "outputs": [
    {
     "data": {
      "text/plain": [
       "<tf.Tensor: shape=(1, 1, 96), dtype=int32, numpy=\n",
       "array([[[1, 0, 1, 0, 0, 0, 1, 0, 1, 0, 1, 0, 0, 1, 0, 1, 0, 0, 0, 1, 0,\n",
       "         0, 0, 0, 0, 0, 0, 1, 0, 0, 1, 0, 1, 0, 0, 1, 0, 1, 0, 1, 0, 0,\n",
       "         1, 0, 0, 0, 0, 1, 0, 1, 0, 0, 0, 0, 0, 0, 1, 0, 1, 0, 0, 1, 0,\n",
       "         0, 0, 1, 0, 0, 0, 1, 0, 1, 0, 1, 0, 0, 1, 0, 1, 0, 1, 0, 0, 1,\n",
       "         0, 0, 0, 0, 0, 1, 0, 0, 0, 0, 0, 1]]])>"
      ]
     },
     "execution_count": 51,
     "metadata": {},
     "output_type": "execute_result"
    }
   ],
   "source": [
    "tf.convert_to_tensor(board_to_input(board))"
   ]
  },
  {
   "cell_type": "code",
   "execution_count": 146,
   "id": "1b160861",
   "metadata": {
    "scrolled": false
   },
   "outputs": [
    {
     "ename": "IndexError",
     "evalue": "list index out of range",
     "output_type": "error",
     "traceback": [
      "\u001b[1;31m---------------------------------------------------------------------------\u001b[0m",
      "\u001b[1;31mIndexError\u001b[0m                                Traceback (most recent call last)",
      "\u001b[1;32m~\\AppData\\Local\\Temp/ipykernel_5424/3748529371.py\u001b[0m in \u001b[0;36m<module>\u001b[1;34m\u001b[0m\n\u001b[0;32m     77\u001b[0m                \u001b[0mnp\u001b[0m\u001b[1;33m.\u001b[0m\u001b[0mabs\u001b[0m\u001b[1;33m(\u001b[0m\u001b[0mcritic_value_history\u001b[0m \u001b[1;33m-\u001b[0m \u001b[0mround_results\u001b[0m\u001b[1;33m)\u001b[0m\u001b[1;33m\u001b[0m\u001b[1;33m\u001b[0m\u001b[0m\n\u001b[0;32m     78\u001b[0m             )\n\u001b[1;32m---> 79\u001b[1;33m         \u001b[0mprint\u001b[0m\u001b[1;33m(\u001b[0m\u001b[0mlist\u001b[0m\u001b[1;33m(\u001b[0m\u001b[0mhistory\u001b[0m\u001b[1;33m)\u001b[0m\u001b[1;33m[\u001b[0m\u001b[1;36m0\u001b[0m\u001b[1;33m]\u001b[0m\u001b[1;33m)\u001b[0m\u001b[1;33m\u001b[0m\u001b[1;33m\u001b[0m\u001b[0m\n\u001b[0m\u001b[0;32m     80\u001b[0m         \u001b[0mloss_value\u001b[0m \u001b[1;33m=\u001b[0m \u001b[0msum\u001b[0m\u001b[1;33m(\u001b[0m\u001b[0mactor_losses\u001b[0m\u001b[1;33m)\u001b[0m \u001b[1;33m+\u001b[0m \u001b[0msum\u001b[0m\u001b[1;33m(\u001b[0m\u001b[0mcritic_losses\u001b[0m\u001b[1;33m)\u001b[0m\u001b[1;33m\u001b[0m\u001b[1;33m\u001b[0m\u001b[0m\n\u001b[0;32m     81\u001b[0m         \u001b[0mgrads\u001b[0m \u001b[1;33m=\u001b[0m \u001b[0mtape\u001b[0m\u001b[1;33m.\u001b[0m\u001b[0mgradient\u001b[0m\u001b[1;33m(\u001b[0m\u001b[0mloss_value\u001b[0m\u001b[1;33m,\u001b[0m \u001b[0mmodel\u001b[0m\u001b[1;33m.\u001b[0m\u001b[0mtrainable_variables\u001b[0m\u001b[1;33m)\u001b[0m\u001b[1;33m\u001b[0m\u001b[1;33m\u001b[0m\u001b[0m\n",
      "\u001b[1;31mIndexError\u001b[0m: list index out of range"
     ]
    }
   ],
   "source": [
    "#prevents division by 0\n",
    "eps = np.finfo(np.float32).eps.item()\n",
    "\n",
    "rng_seed = 2022\n",
    "rng = np.random.default_rng(rng_seed)\n",
    "\n",
    "\n",
    "gamma = 0.995 #discount factor for previous rewards\n",
    "rounds_per_game = 20\n",
    "\n",
    "num_inputs = 8*12 #12 cards at a time, 8 bits per card\n",
    "num_hidden = 256\n",
    "num_picks = 12 #cards per round\n",
    "\n",
    "inputs = layers.Input(shape = (num_inputs,))\n",
    "common = layers.Dense(num_hidden, activation = 'relu', )(inputs)\n",
    "picks = layers.Dense(num_picks, activation = 'softmax')(common)\n",
    "critic = layers.Dense(1)(common)\n",
    "\n",
    "model = keras.Model(inputs = inputs, outputs = [picks, critic])\n",
    "\n",
    "#make optimizer\n",
    "optimizer = keras.optimizers.Adam(learning_rate = 0.01)\n",
    "#loss function\n",
    "loss = sum\n",
    "\n",
    "choice_probs_history = []\n",
    "critic_value_history = []\n",
    "rewards_history = []\n",
    "running_reward = 0\n",
    "round_count = 0\n",
    "\n",
    "#get 0 and 1 values for the entire deck\n",
    "card_values = bit_cards.astype(int).values\n",
    "\n",
    "choice_probs_history = []\n",
    "critic_value_history = []\n",
    "hi = 1\n",
    "#repeatedly play full games\n",
    "while hi <2:\n",
    "    hi+= 1\n",
    "    #turn this hi stuff back into while True with a break check at the end\n",
    "    total_score = 0\n",
    "    with tf.GradientTape() as tape:\n",
    "        #play a game. This is analogous to the cartpole \"episodes\"\n",
    "        #place initial cards and set the deck aside\n",
    "        board, deck = initialize_board(81, 12, rng)\n",
    "        #go through the rounds\n",
    "        round_results = []\n",
    "        for this_round in range(rounds_per_game):\n",
    "            #convert board to input\n",
    "            state = board_to_input(board)\n",
    "            #make choices and predict the result\n",
    "            choice_probs, critic_value = model(state)\n",
    "            #pick three cards on the board to constitute a set\n",
    "            choices, board = draw_cards([], board, rng, board_size = 3, p = np.squeeze(choice_probs,0))\n",
    "            #replace missing cards on the board\n",
    "            board, deck = draw_cards(board, deck, rng)\n",
    "            #assess if the three choices are a set. 0 or 1.\n",
    "            reward = int(setQ(index_to_series_list(choices)))\n",
    "            #track results\n",
    "            choice_probs_history.append(choice_probs)\n",
    "            critic_value_history.append(critic_value)\n",
    "            round_results.append(reward)\n",
    "            total_score += reward\n",
    "        #normalize round results\n",
    "        round_results = np.array(round_results)\n",
    "        round_results = (round_results - np.mean(round_results))/(np.std(round_results)+eps)\n",
    "        history = zip(choice_probs_history, critic_value_history, round_results)\n",
    "        actor_losses = []\n",
    "        critic_losses = []\n",
    "        for log_prob, critic_value, result_value in history:\n",
    "            #get losses for actor\n",
    "            diff = result_value - critic_value\n",
    "            actor_losses.append(-log_prob * diff)\n",
    "            #get losses for critic\n",
    "            critic_losses.append(\n",
    "               np.abs(critic_value_history - round_results)\n",
    "            )\n",
    "        print(list(history)[0])\n",
    "        loss_value = sum(actor_losses) + sum(critic_losses)\n",
    "        grads = tape.gradient(loss_value, model.trainable_variables)\n",
    "        optimizer.apply_gradients(zip(grads, model.trainable_variables))\n",
    "        \n",
    "        action_probs_history.clear()\n",
    "        critic_value_history.clear()\n",
    "        rewards_history.clear()"
   ]
  },
  {
   "cell_type": "code",
   "execution_count": 136,
   "id": "f69839ff",
   "metadata": {},
   "outputs": [],
   "source": [
    "history = zip(choice_probs_history, critic_value_history, round_results)"
   ]
  },
  {
   "cell_type": "code",
   "execution_count": 137,
   "id": "5ef989fb",
   "metadata": {},
   "outputs": [
    {
     "data": {
      "text/plain": [
       "(<tf.Tensor: shape=(1, 12), dtype=float32, numpy=\n",
       " array([[0.12798883, 0.06258224, 0.1509525 , 0.13840464, 0.09192531,\n",
       "         0.03883421, 0.06066033, 0.07969919, 0.08117904, 0.04328948,\n",
       "         0.05934891, 0.06513539]], dtype=float32)>,\n",
       " <tf.Tensor: shape=(1, 1), dtype=float32, numpy=array([[0.55433947]], dtype=float32)>,\n",
       " 0.0)"
      ]
     },
     "execution_count": 137,
     "metadata": {},
     "output_type": "execute_result"
    }
   ],
   "source": [
    "list(history)[0]"
   ]
  },
  {
   "cell_type": "code",
   "execution_count": 133,
   "id": "68e121df",
   "metadata": {},
   "outputs": [
    {
     "data": {
      "text/plain": [
       "array([1, 1, 1, 2, 3])"
      ]
     },
     "execution_count": 133,
     "metadata": {},
     "output_type": "execute_result"
    }
   ],
   "source": [
    "np.abs([-1,1,1,2,-3])"
   ]
  },
  {
   "cell_type": "code",
   "execution_count": 148,
   "id": "78f6a163",
   "metadata": {},
   "outputs": [
    {
     "data": {
      "text/plain": [
       "(<tf.Tensor: shape=(1, 12), dtype=float32, numpy=\n",
       " array([[0.06937498, 0.05384377, 0.07791723, 0.09856275, 0.13054432,\n",
       "         0.07178988, 0.05387769, 0.0909901 , 0.09842826, 0.08748049,\n",
       "         0.09093545, 0.07625504]], dtype=float32)>,\n",
       " <tf.Tensor: shape=(1, 1), dtype=float32, numpy=array([[0.8472874]], dtype=float32)>,\n",
       " -0.22941560838716776)"
      ]
     },
     "execution_count": 148,
     "metadata": {},
     "output_type": "execute_result"
    }
   ],
   "source": [
    "choice_probs_history[0], critic_value_history[0], round_results[0]"
   ]
  },
  {
   "cell_type": "code",
   "execution_count": null,
   "id": "1967d48f",
   "metadata": {},
   "outputs": [],
   "source": []
  }
 ],
 "metadata": {
  "kernelspec": {
   "display_name": "Python 3 (ipykernel)",
   "language": "python",
   "name": "python3"
  },
  "language_info": {
   "codemirror_mode": {
    "name": "ipython",
    "version": 3
   },
   "file_extension": ".py",
   "mimetype": "text/x-python",
   "name": "python",
   "nbconvert_exporter": "python",
   "pygments_lexer": "ipython3",
   "version": "3.9.7"
  }
 },
 "nbformat": 4,
 "nbformat_minor": 5
}
